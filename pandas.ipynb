{
 "cells": [
  {
   "cell_type": "markdown",
   "id": "22e7cd74-92ad-45e9-8cc1-e4470cbe08e6",
   "metadata": {},
   "source": [
    "### 판다스(pandas)  \n",
    "데이터를 관리하기 위한 모듈로, 시리즈와 데이터 프레임을 제공함  "
   ]
  },
  {
   "cell_type": "code",
   "execution_count": 29,
   "id": "f573c941-c73b-49c9-abe3-89fe142bd105",
   "metadata": {},
   "outputs": [],
   "source": [
    "# 모듈 불러오기\n",
    "# 판다스  모듈을 pd 라고 부른다.\n",
    "import pandas as pd\n",
    "import numpy as np"
   ]
  },
  {
   "cell_type": "markdown",
   "id": "82c6acb7-a3fe-4c57-ba52-224ff19f7cd8",
   "metadata": {},
   "source": [
    "#### 4.1 시리즈 (series)\n",
    "<small>\n",
    "데이터를 한줄로 담는 자료 구조이다.<br>\n",
    "리스트와 다른 점은 데이터에 이름포를 붙일 수 있다. (index)\n",
    "</small>"
   ]
  },
  {
   "cell_type": "code",
   "execution_count": 8,
   "id": "e09b3387-8c11-4830-8dbc-13dfe0df8caa",
   "metadata": {},
   "outputs": [
    {
     "name": "stdout",
     "output_type": "stream",
     "text": [
      "0    1\n",
      "1    2\n",
      "2    3\n",
      "3    4\n",
      "dtype: int64\n"
     ]
    },
    {
     "data": {
      "text/plain": [
       "RangeIndex(start=0, stop=4, step=1)"
      ]
     },
     "execution_count": 8,
     "metadata": {},
     "output_type": "execute_result"
    }
   ],
   "source": [
    "# 시리즈 생성\n",
    "s = pd.Series([1,2,3,4])\n",
    "print(s)\n",
    "# 인덱스가 자동으로 설정됨 (0~3)\n",
    "# 시리즈의 인덱스 확인\n",
    "s.index"
   ]
  },
  {
   "cell_type": "markdown",
   "id": "b485971c-c2d9-4202-aee5-1ab415f0833b",
   "metadata": {},
   "source": [
    "시리즈 생성2"
   ]
  },
  {
   "cell_type": "code",
   "execution_count": 11,
   "id": "cc9637f0-ec27-42cd-b26c-7b422efa05ef",
   "metadata": {},
   "outputs": [
    {
     "name": "stdout",
     "output_type": "stream",
     "text": [
      "a    1\n",
      "b    2\n",
      "c    3\n",
      "dtype: int64\n"
     ]
    },
    {
     "data": {
      "text/plain": [
       "Index(['a', 'b', 'c'], dtype='object')"
      ]
     },
     "execution_count": 11,
     "metadata": {},
     "output_type": "execute_result"
    }
   ],
   "source": [
    "# 인덱스를 직접 설정하여 시리즈 생성\n",
    "# pd.Series(값목록, 인덱스)\n",
    "s = pd.Series([1,2,3], index = ['a','b','c'])\n",
    "print(s)\n",
    "# 인덱스 확인\n",
    "s.index"
   ]
  },
  {
   "cell_type": "markdown",
   "id": "37e918d8-b9a0-4592-a8a9-eb905a526309",
   "metadata": {},
   "source": [
    "시리즈에서 값 꺼내기  \n",
    "<small>\n",
    "값을 찾는 방법: 인덱스의 이름과 위치<br>\n",
    "loc 함수: 인덱스 이름으로 데이터를 찾는다.<br>\n",
    "iloc 함수: 인덱스 위치로 데이터를 찾는다.<br>\n",
    "대괄호[]: 인덱스 이름으로 데이터를 찾는다.\n",
    "</small>"
   ]
  },
  {
   "cell_type": "code",
   "execution_count": 18,
   "id": "d7aaf5a3-d027-457a-8f98-67b7d5638e0a",
   "metadata": {},
   "outputs": [
    {
     "name": "stdout",
     "output_type": "stream",
     "text": [
      "a    1\n",
      "b    2\n",
      "c    3\n",
      "dtype: int64\n"
     ]
    },
    {
     "data": {
      "text/plain": [
       "np.int64(3)"
      ]
     },
     "execution_count": 18,
     "metadata": {},
     "output_type": "execute_result"
    }
   ],
   "source": [
    "print(s)\n",
    "# 이 시리즈의 인덱스 이름: a, b, c\n",
    "# 이 시리즈의 인덱스 위치: 0, 1, 2 (고민할 필요x)\n",
    "\n",
    "# 인덱스 이름으로 숫자 1꺼내기\n",
    "s.loc['a']\n",
    "# 인덱스 이름으로 숫자 2꺼내기\n",
    "s['b']\n",
    "# 인덱스 위치로 숫자 3 꺼내기\n",
    "# s.iloc[위치]\n",
    "s.iloc[2]"
   ]
  },
  {
   "cell_type": "markdown",
   "id": "67161ea3-e6ab-49de-993c-31fbd2db75c3",
   "metadata": {},
   "source": [
    "시리즈 값 수정하기"
   ]
  },
  {
   "cell_type": "code",
   "execution_count": 27,
   "id": "1cea0381-f5e6-49d8-a798-38428ff2c39a",
   "metadata": {},
   "outputs": [
    {
     "name": "stdout",
     "output_type": "stream",
     "text": [
      "a     0\n",
      "b     2\n",
      "c    99\n",
      "dtype: int64\n"
     ]
    },
    {
     "data": {
      "text/plain": [
       "a     0\n",
       "b     2\n",
       "c    99\n",
       "dtype: int64"
      ]
     },
     "execution_count": 27,
     "metadata": {},
     "output_type": "execute_result"
    }
   ],
   "source": [
    "print(s)\n",
    "# 1을 0으로 변경\n",
    "# 찾기 -> 변경\n",
    "s.loc['a'] = 0\n",
    "# 3을 99로 변경\n",
    "s['c'] = 99\n",
    "s"
   ]
  },
  {
   "cell_type": "markdown",
   "id": "336392bb-18a4-40d5-b7ae-93208b15efdb",
   "metadata": {},
   "source": [
    "#### 4.2 데이터 프레임 (DataFrame)\n",
    "<small>\n",
    "표 형식의 2차원 데이터를 담기 위한 자료 구조\n",
    "</small>"
   ]
  },
  {
   "cell_type": "markdown",
   "id": "aa16a5c7-3e2d-450d-8eb5-3ae165f90822",
   "metadata": {},
   "source": [
    "데이터 프레임 생성1"
   ]
  },
  {
   "cell_type": "code",
   "execution_count": 36,
   "id": "22dddde7-a455-4f43-a5af-1a012bd6c510",
   "metadata": {},
   "outputs": [
    {
     "name": "stdout",
     "output_type": "stream",
     "text": [
      "RangeIndex(start=0, stop=2, step=1)\n",
      "Index(['city', 'pop'], dtype='object')\n"
     ]
    }
   ],
   "source": [
    "# 도시별 인구 데이터를 담은 데이터 프레임 생성\n",
    "# 데이터 먼저 만들기 (dic)\n",
    "# city 라는 열 하나\n",
    "data = {'city' : ['서울','인천'],\n",
    "        'pop' : [990, 240]}\n",
    "# pd.DataFrame(값, [인덱스], [컬럼])\n",
    "df = pd.DataFrame(data)\n",
    "df\n",
    "\n",
    "# 행열의 이름을 따로 설정하지 않으면 자동으로 설정됨\n",
    "print(df.index) # 행 이름: 0,1\n",
    "print(df.columns) # 열 이름: dic의 key (city, pop)"
   ]
  },
  {
   "cell_type": "markdown",
   "id": "f23de467-f394-46fe-bd31-822f4d49339a",
   "metadata": {},
   "source": [
    "데이터 프레임 생성2"
   ]
  },
  {
   "cell_type": "code",
   "execution_count": 45,
   "id": "b0606fa3-6aae-4eae-acb5-21d3a324ecc0",
   "metadata": {},
   "outputs": [
    {
     "name": "stdout",
     "output_type": "stream",
     "text": [
      "Index(['국어', '영어', '수학'], dtype='object')\n"
     ]
    }
   ],
   "source": [
    "# 학생 성적 데이터 만들기\n",
    "# dic, list\n",
    "# 넘파이의 다차원 배열 사용하여 2차원 배열 생성\n",
    "data = np.array([ [60,70,80], [70,80,90], [80,90,100] ])\n",
    "# 성적 데이터를 담아서 데이터 프레임 생성\n",
    "# 이 점수가 누구의 어떤 점수인지 알기 위해, 이름표 붙이기\n",
    "# 행 이름: 학새으이 이름\n",
    "# 열 이름: 과목명\n",
    "df = pd.DataFrame(data, index = ['둘리','또치','도우너'], columns = ['국어','영어','수학'])\n",
    "# 행 인덱스\n",
    "df.index\n",
    "# 열 컬럼\n",
    "print(df.columns)"
   ]
  },
  {
   "cell_type": "markdown",
   "id": "067381dd-4c32-4c1e-b804-30f0249520fc",
   "metadata": {},
   "source": [
    "데이터 프레임에서 데이터 꺼내기<br>\n",
    "<small>\n",
    "loc: 행열 이름으로 데이터를 꺼낸다.<br>\n",
    "iloc: 행열 위치로 데이터를 꺼낸다.<br>\n",
    "[]:  행열 이름으로 데이터를 꺼낸다.\n",
    "</small>"
   ]
  },
  {
   "cell_type": "code",
   "execution_count": 52,
   "id": "84fff21a-9504-45a3-900d-d53475469736",
   "metadata": {},
   "outputs": [
    {
     "name": "stdout",
     "output_type": "stream",
     "text": [
      "     국어  영어   수학\n",
      "둘리   60  70   80\n",
      "또치   70  80   90\n",
      "도우너  80  90  100\n"
     ]
    },
    {
     "data": {
      "text/plain": [
       "np.int64(100)"
      ]
     },
     "execution_count": 52,
     "metadata": {},
     "output_type": "execute_result"
    }
   ],
   "source": [
    "print(df)\n",
    "# loc[행이름, 열이름]\n",
    "# 전체 데이터\n",
    "df.loc[ : ,  : ] \n",
    "# 둘리의 국어 점수\n",
    "df.loc['둘리','국어']\n",
    "# 도우너의 수학 점수\n",
    "df.loc['도우너','수학']"
   ]
  },
  {
   "cell_type": "code",
   "execution_count": 56,
   "id": "708734cd-24f9-4e10-86bc-5c87adb3b7da",
   "metadata": {},
   "outputs": [
    {
     "name": "stdout",
     "output_type": "stream",
     "text": [
      "     국어  영어   수학\n",
      "둘리   60  70   80\n",
      "또치   70  80   90\n",
      "도우너  80  90  100\n"
     ]
    },
    {
     "data": {
      "text/plain": [
       "둘리     70\n",
       "또치     80\n",
       "도우너    90\n",
       "Name: 영어, dtype: int64"
      ]
     },
     "execution_count": 56,
     "metadata": {},
     "output_type": "execute_result"
    }
   ],
   "source": [
    "print(df)\n",
    "# 프레임에서 []대괄호를 쓰면, 열만 입력 가능\n",
    "# [열 이름]\n",
    "# 모든 학생의 국어 점수\n",
    "df['국어']\n",
    "# 모든 학생의 영어 점수\n",
    "df['영어']"
   ]
  },
  {
   "cell_type": "markdown",
   "id": "fb45ec20-c69e-476f-a8c7-18cbbf635d3e",
   "metadata": {},
   "source": [
    "데이터 프레임에 새로운 열 추가"
   ]
  },
  {
   "cell_type": "code",
   "execution_count": 66,
   "id": "c077938e-5517-45d1-be66-501674de9a53",
   "metadata": {},
   "outputs": [
    {
     "data": {
      "text/html": [
       "<div>\n",
       "<style scoped>\n",
       "    .dataframe tbody tr th:only-of-type {\n",
       "        vertical-align: middle;\n",
       "    }\n",
       "\n",
       "    .dataframe tbody tr th {\n",
       "        vertical-align: top;\n",
       "    }\n",
       "\n",
       "    .dataframe thead th {\n",
       "        text-align: right;\n",
       "    }\n",
       "</style>\n",
       "<table border=\"1\" class=\"dataframe\">\n",
       "  <thead>\n",
       "    <tr style=\"text-align: right;\">\n",
       "      <th></th>\n",
       "      <th>국어</th>\n",
       "      <th>영어</th>\n",
       "      <th>미술</th>\n",
       "      <th>수학</th>\n",
       "      <th>과학</th>\n",
       "    </tr>\n",
       "  </thead>\n",
       "  <tbody>\n",
       "    <tr>\n",
       "      <th>둘리</th>\n",
       "      <td>60</td>\n",
       "      <td>70</td>\n",
       "      <td>70</td>\n",
       "      <td>80</td>\n",
       "      <td>60</td>\n",
       "    </tr>\n",
       "    <tr>\n",
       "      <th>또치</th>\n",
       "      <td>70</td>\n",
       "      <td>80</td>\n",
       "      <td>80</td>\n",
       "      <td>90</td>\n",
       "      <td>70</td>\n",
       "    </tr>\n",
       "    <tr>\n",
       "      <th>도우너</th>\n",
       "      <td>80</td>\n",
       "      <td>90</td>\n",
       "      <td>90</td>\n",
       "      <td>100</td>\n",
       "      <td>80</td>\n",
       "    </tr>\n",
       "  </tbody>\n",
       "</table>\n",
       "</div>"
      ],
      "text/plain": [
       "     국어  영어  미술   수학  과학\n",
       "둘리   60  70  70   80  60\n",
       "또치   70  80  80   90  70\n",
       "도우너  80  90  90  100  80"
      ]
     },
     "execution_count": 66,
     "metadata": {},
     "output_type": "execute_result"
    }
   ],
   "source": [
    "# 새로운 과목 추가\n",
    "# 새오룽 열 = 리스트\n",
    "# 맨 뒤에 추가됨\n",
    "# df['과학'] = [60,70,80]\n",
    "# df\n",
    "# 이번에는 두번째 위치에 '미술' 과목을 추가\n",
    "# df.insert(위치, 컬럼명, 값리스트)\n",
    "df.insert(2, '미술', [70,80,90])\n",
    "df"
   ]
  },
  {
   "cell_type": "markdown",
   "id": "0d4d57bc-f713-4bd7-a0f4-75dbbe94b29f",
   "metadata": {},
   "source": [
    "데이터 프레임에서 열 삭제  \n",
    "<small>\n",
    "del: 원본에서 바로 삭제  \n",
    "drop: 원본은 그대로, 결과만 보여줌\n",
    "</small>"
   ]
  },
  {
   "cell_type": "code",
   "execution_count": null,
   "id": "639068eb-363d-4edf-9730-3f8b08d6e9dc",
   "metadata": {},
   "outputs": [],
   "source": [
    "# 과학 과목 삭제\n",
    "# del df['과학']\n",
    "print(df)\n",
    "\n",
    "# 수학 과목 삭제\n",
    "# drop(형 또는 열의 이름, 방향)\n",
    "# axis=1 또는 axis='columns'\n",
    "# df = df.drop('수학', axis=1) #엑시스(축, 방향)\n",
    "# df\n",
    "\n",
    "# 또치 학생 삭제 (행 삭제)\n",
    "# axis = 0 또는 axis = 'row'\n",
    "# drop은 원본에 영향 없음\n",
    "# 결과를 원본에 교체\n",
    "df = df.drop('또치', axis = 0)\n",
    "\n",
    "df\n"
   ]
  },
  {
   "cell_type": "markdown",
   "id": "3acddfac-5b32-4dcf-9583-d5cead4561fb",
   "metadata": {},
   "source": [
    "#### 4.3 데이터 계산과 처리"
   ]
  },
  {
   "cell_type": "markdown",
   "id": "1b276385-6c4f-4700-b874-b51867717b0d",
   "metadata": {},
   "source": [
    "시리즈에서 계산과 조건 검색"
   ]
  },
  {
   "cell_type": "code",
   "execution_count": 84,
   "id": "d6b4b470-5d86-49b4-af01-fe01d6eee58a",
   "metadata": {},
   "outputs": [
    {
     "name": "stdout",
     "output_type": "stream",
     "text": [
      "-1\n",
      "0\n",
      "1\n",
      "2\n",
      "3\n"
     ]
    }
   ],
   "source": [
    "# 숫자가 담긴 리스트 생성\n",
    "lis = [-2,-1,0,1,2]\n",
    "# 모든 원소에 1만큼 더하기\n",
    "sum = 0\n",
    "for i in lis:\n",
    "    print(i+1)\n"
   ]
  },
  {
   "cell_type": "code",
   "execution_count": 85,
   "id": "c03ed670-aef4-4a75-b8ae-fb70736d1ce0",
   "metadata": {},
   "outputs": [
    {
     "data": {
      "text/plain": [
       "0   -1\n",
       "1    0\n",
       "2    1\n",
       "3    2\n",
       "4    3\n",
       "dtype: int64"
      ]
     },
     "execution_count": 85,
     "metadata": {},
     "output_type": "execute_result"
    }
   ],
   "source": [
    "# 숫자가 담긴 시리즈 생성\n",
    "s = pd.Series([-2,-1,0,1,2])\n",
    "\n",
    "# 모든 원소에 1만큼 \n",
    "# 판다스의 시리즈는 for 없이 반복 수행 가능\n",
    "s + 1"
   ]
  },
  {
   "cell_type": "code",
   "execution_count": 86,
   "id": "7e141c4e-6988-4f62-aa27-297a48c9e8d3",
   "metadata": {},
   "outputs": [
    {
     "data": {
      "text/plain": [
       "0   -1\n",
       "1    0\n",
       "2    1\n",
       "3    2\n",
       "4    3\n",
       "dtype: int64"
      ]
     },
     "execution_count": 86,
     "metadata": {},
     "output_type": "execute_result"
    }
   ],
   "source": [
    "s = pd.Series([-2,-1,0,1,2])\n",
    "# 모든 원소에 1만큼 \n",
    "# s + 1\n",
    "s.add(1)"
   ]
  },
  {
   "cell_type": "code",
   "execution_count": 92,
   "id": "11050f6b-7403-4ef7-a51a-55ea74902a83",
   "metadata": {},
   "outputs": [
    {
     "data": {
      "text/plain": [
       "3    1\n",
       "4    2\n",
       "dtype: int64"
      ]
     },
     "execution_count": 92,
     "metadata": {},
     "output_type": "execute_result"
    }
   ],
   "source": [
    "s\n",
    "# 조건 검색 (양수만 찾기)\n",
    "# 불리언 배열 만들기\n",
    "# Series > int => 시리즈의 전체 데이터와 0을 비교\n",
    "s > 0\n",
    "# 불리언 배열은 시리즈의 인덱스로 사용할 수 있다.\n",
    "# true인 값만 남음\n",
    "s[s > 0]"
   ]
  },
  {
   "cell_type": "code",
   "execution_count": 98,
   "id": "2e4d729c-57ea-4e46-8a26-20b786dbc5a8",
   "metadata": {},
   "outputs": [
    {
     "data": {
      "text/plain": [
       "1     2\n",
       "3     4\n",
       "5     6\n",
       "7     8\n",
       "9    10\n",
       "dtype: int64"
      ]
     },
     "execution_count": 98,
     "metadata": {},
     "output_type": "execute_result"
    }
   ],
   "source": [
    "# 조건검색2(짝수만 찾기)\n",
    "s = pd.Series(np.arange(1,11))\n",
    "s\n",
    "# 짝수만 찾기\n",
    "# 시리즈 전체 데이터에 계산식이 적용됨 -> bool 10개 반환\n",
    "s % 2 == 0\n",
    "# bool 배열을 시리즈의 인덱스로 사용\n",
    "s[s % 2 == 0]"
   ]
  },
  {
   "cell_type": "code",
   "execution_count": null,
   "id": "7f0b50a6-d022-415b-aa9b-d5fa72df4150",
   "metadata": {},
   "outputs": [],
   "source": [
    "# 자주 사용하는 통계 함수: sum mean max min\n",
    "# numpy의 배열, pandas의 시리즈와 데이터프레임 모두 사용 가능"
   ]
  },
  {
   "cell_type": "code",
   "execution_count": 115,
   "id": "dc897e8d-0f76-482d-b815-d7bf6a8ed642",
   "metadata": {},
   "outputs": [
    {
     "data": {
      "text/html": [
       "<div>\n",
       "<style scoped>\n",
       "    .dataframe tbody tr th:only-of-type {\n",
       "        vertical-align: middle;\n",
       "    }\n",
       "\n",
       "    .dataframe tbody tr th {\n",
       "        vertical-align: top;\n",
       "    }\n",
       "\n",
       "    .dataframe thead th {\n",
       "        text-align: right;\n",
       "    }\n",
       "</style>\n",
       "<table border=\"1\" class=\"dataframe\">\n",
       "  <thead>\n",
       "    <tr style=\"text-align: right;\">\n",
       "      <th></th>\n",
       "      <th>국어</th>\n",
       "      <th>영어</th>\n",
       "      <th>수학</th>\n",
       "    </tr>\n",
       "  </thead>\n",
       "  <tbody>\n",
       "    <tr>\n",
       "      <th>둘리</th>\n",
       "      <td>60</td>\n",
       "      <td>70</td>\n",
       "      <td>80</td>\n",
       "    </tr>\n",
       "    <tr>\n",
       "      <th>또치</th>\n",
       "      <td>70</td>\n",
       "      <td>80</td>\n",
       "      <td>90</td>\n",
       "    </tr>\n",
       "    <tr>\n",
       "      <th>도우너</th>\n",
       "      <td>80</td>\n",
       "      <td>90</td>\n",
       "      <td>10</td>\n",
       "    </tr>\n",
       "  </tbody>\n",
       "</table>\n",
       "</div>"
      ],
      "text/plain": [
       "     국어  영어  수학\n",
       "둘리   60  70  80\n",
       "또치   70  80  90\n",
       "도우너  80  90  10"
      ]
     },
     "execution_count": 115,
     "metadata": {},
     "output_type": "execute_result"
    }
   ],
   "source": [
    "# 학생 성적 데이터 만들기\n",
    "data = np.array([[60,70,80],[70,80,90],[80,90,10]])\n",
    "# 성적 데이털ㄹ 담아서 프레임 생성|\n",
    "df = pd.DataFrame(data, index = ['둘리','또치','도우너'], columns = ['국어','영어','수학'])\n",
    "df"
   ]
  },
  {
   "cell_type": "code",
   "execution_count": 114,
   "id": "c82c27e4-f376-4a24-b1c3-6b321d83f0ba",
   "metadata": {},
   "outputs": [
    {
     "data": {
      "text/plain": [
       "pandas.core.series.Series"
      ]
     },
     "execution_count": 114,
     "metadata": {},
     "output_type": "execute_result"
    }
   ],
   "source": [
    "# 국어 과목만 조회\n",
    "df['국어']\n",
    "# 국어 과목아 담겨있는 값의 자료형\n",
    "df['국어'].dtype\n",
    "# 국어 과목의 자료 구조\n",
    "type(df['국어'])\n",
    "# 데이터프레임은 여러 시리즈의 묶음"
   ]
  },
  {
   "cell_type": "code",
   "execution_count": 111,
   "id": "63f217d9-f95c-44e2-a5ac-b14fbae7956f",
   "metadata": {},
   "outputs": [
    {
     "data": {
      "text/plain": [
       "둘리     61\n",
       "또치     71\n",
       "도우너    81\n",
       "Name: 국어, dtype: int64"
      ]
     },
     "execution_count": 111,
     "metadata": {},
     "output_type": "execute_result"
    }
   ],
   "source": [
    "# 전체 점수에 1점씩 더하기\n",
    "df + 1\n",
    "# 국어점수만 10점씩 더하기\n",
    "df['국어'] + 1"
   ]
  },
  {
   "cell_type": "code",
   "execution_count": 112,
   "id": "258b5f5c-e77d-4930-a51e-3c7be8ec5e1e",
   "metadata": {},
   "outputs": [
    {
     "data": {
      "text/html": [
       "<div>\n",
       "<style scoped>\n",
       "    .dataframe tbody tr th:only-of-type {\n",
       "        vertical-align: middle;\n",
       "    }\n",
       "\n",
       "    .dataframe tbody tr th {\n",
       "        vertical-align: top;\n",
       "    }\n",
       "\n",
       "    .dataframe thead th {\n",
       "        text-align: right;\n",
       "    }\n",
       "</style>\n",
       "<table border=\"1\" class=\"dataframe\">\n",
       "  <thead>\n",
       "    <tr style=\"text-align: right;\">\n",
       "      <th></th>\n",
       "      <th>국어</th>\n",
       "      <th>영어</th>\n",
       "      <th>수학</th>\n",
       "    </tr>\n",
       "  </thead>\n",
       "  <tbody>\n",
       "    <tr>\n",
       "      <th>또치</th>\n",
       "      <td>70</td>\n",
       "      <td>80</td>\n",
       "      <td>90</td>\n",
       "    </tr>\n",
       "    <tr>\n",
       "      <th>도우너</th>\n",
       "      <td>80</td>\n",
       "      <td>90</td>\n",
       "      <td>10</td>\n",
       "    </tr>\n",
       "  </tbody>\n",
       "</table>\n",
       "</div>"
      ],
      "text/plain": [
       "     국어  영어  수학\n",
       "또치   70  80  90\n",
       "도우너  80  90  10"
      ]
     },
     "execution_count": 112,
     "metadata": {},
     "output_type": "execute_result"
    }
   ],
   "source": [
    "# 조건 검색 (국어 점수가 70점 이상인 학생만 찾기)\n",
    "df['국어'] >= 70\n",
    "# 프레임에 bool 배열을 인덱스로 사용\n",
    "df[df['국어'] >= 70]"
   ]
  },
  {
   "cell_type": "markdown",
   "id": "2fe9d9d6-652a-477a-ae28-3ac80184f9c7",
   "metadata": {},
   "source": [
    "데이터프레임의 정렬  \n",
    "<small>\n",
    "시험 성적 순위를 매길때 사용\n",
    "</small>"
   ]
  },
  {
   "cell_type": "code",
   "execution_count": 119,
   "id": "8dff96e3-8dc7-4561-953f-44a724bfe8df",
   "metadata": {},
   "outputs": [
    {
     "data": {
      "text/html": [
       "<div>\n",
       "<style scoped>\n",
       "    .dataframe tbody tr th:only-of-type {\n",
       "        vertical-align: middle;\n",
       "    }\n",
       "\n",
       "    .dataframe tbody tr th {\n",
       "        vertical-align: top;\n",
       "    }\n",
       "\n",
       "    .dataframe thead th {\n",
       "        text-align: right;\n",
       "    }\n",
       "</style>\n",
       "<table border=\"1\" class=\"dataframe\">\n",
       "  <thead>\n",
       "    <tr style=\"text-align: right;\">\n",
       "      <th></th>\n",
       "      <th>국어</th>\n",
       "      <th>영어</th>\n",
       "      <th>수학</th>\n",
       "    </tr>\n",
       "  </thead>\n",
       "  <tbody>\n",
       "    <tr>\n",
       "      <th>도우너</th>\n",
       "      <td>80</td>\n",
       "      <td>90</td>\n",
       "      <td>10</td>\n",
       "    </tr>\n",
       "    <tr>\n",
       "      <th>또치</th>\n",
       "      <td>70</td>\n",
       "      <td>80</td>\n",
       "      <td>90</td>\n",
       "    </tr>\n",
       "    <tr>\n",
       "      <th>둘리</th>\n",
       "      <td>60</td>\n",
       "      <td>70</td>\n",
       "      <td>80</td>\n",
       "    </tr>\n",
       "  </tbody>\n",
       "</table>\n",
       "</div>"
      ],
      "text/plain": [
       "     국어  영어  수학\n",
       "도우너  80  90  10\n",
       "또치   70  80  90\n",
       "둘리   60  70  80"
      ]
     },
     "execution_count": 119,
     "metadata": {},
     "output_type": "execute_result"
    }
   ],
   "source": [
    "# 시험 성적에서 국어 점수를 기준으로 정렬\n",
    "df.sort_values('국어')\n",
    "# 국어 점수를 기준으로 내림차순 정렬\n",
    "# 정렬 기준: 오름차순 (1 -> 10) / 내림차순 (10 -> 1)\n",
    "# ascending: 오름차순 (True) 내림차순 (False)\n",
    "df.sort_values('국어', ascending = False)"
   ]
  },
  {
   "cell_type": "code",
   "execution_count": 130,
   "id": "d8d80a49-4bc7-4631-9576-af1950a06060",
   "metadata": {},
   "outputs": [
    {
     "name": "stdout",
     "output_type": "stream",
     "text": [
      "     수학  영어  과학\n",
      "둘리   79  77  71\n",
      "또치   99  86  68\n",
      "도우너  78  88  73\n"
     ]
    },
    {
     "data": {
      "text/html": [
       "<div>\n",
       "<style scoped>\n",
       "    .dataframe tbody tr th:only-of-type {\n",
       "        vertical-align: middle;\n",
       "    }\n",
       "\n",
       "    .dataframe tbody tr th {\n",
       "        vertical-align: top;\n",
       "    }\n",
       "\n",
       "    .dataframe thead th {\n",
       "        text-align: right;\n",
       "    }\n",
       "</style>\n",
       "<table border=\"1\" class=\"dataframe\">\n",
       "  <thead>\n",
       "    <tr style=\"text-align: right;\">\n",
       "      <th></th>\n",
       "      <th>수학</th>\n",
       "      <th>영어</th>\n",
       "      <th>과학</th>\n",
       "    </tr>\n",
       "  </thead>\n",
       "  <tbody>\n",
       "    <tr>\n",
       "      <th>도우너</th>\n",
       "      <td>78</td>\n",
       "      <td>88</td>\n",
       "      <td>73</td>\n",
       "    </tr>\n",
       "    <tr>\n",
       "      <th>또치</th>\n",
       "      <td>99</td>\n",
       "      <td>86</td>\n",
       "      <td>68</td>\n",
       "    </tr>\n",
       "    <tr>\n",
       "      <th>둘리</th>\n",
       "      <td>79</td>\n",
       "      <td>77</td>\n",
       "      <td>71</td>\n",
       "    </tr>\n",
       "  </tbody>\n",
       "</table>\n",
       "</div>"
      ],
      "text/plain": [
       "     수학  영어  과학\n",
       "도우너  78  88  73\n",
       "또치   99  86  68\n",
       "둘리   79  77  71"
      ]
     },
     "execution_count": 130,
     "metadata": {},
     "output_type": "execute_result"
    }
   ],
   "source": [
    "# 랜덤 함수로 시험 점수 생성\n",
    "# 범위: 60점~100점\n",
    "# 개수: 9개\n",
    "data = np.random.randint(60,100,9)\n",
    "# 2차원 배열로 변환\n",
    "arr = data.reshape(3,3)\n",
    "arr\n",
    "# 프레임 생성\n",
    "df = pd.DataFrame(arr, index = ['둘리','또치','도우너'],\n",
    "                  columns = ['수학','영어','과학'])\n",
    "print(df)\n",
    "# 영어 점수가 높은 사람 순으로 정렬\n",
    "df.sort_values('영어', ascending = False)\n"
   ]
  },
  {
   "cell_type": "markdown",
   "id": "be1e97f1-3b2c-4ba5-bb5f-8a1d30f4e2c8",
   "metadata": {},
   "source": [
    "nan 처리  \n",
    "<small>\n",
    "누락된 갑스 빈값   \n",
    "예를 들어 엑셀에서 빈 셀을 표현할 때  \n",
    "nan은 float타입에서만 표현 가능\n",
    "</small>"
   ]
  },
  {
   "cell_type": "code",
   "execution_count": 131,
   "id": "cb05d20d-d631-4169-b5d0-3d3d5e81f5b7",
   "metadata": {},
   "outputs": [
    {
     "data": {
      "text/html": [
       "<div>\n",
       "<style scoped>\n",
       "    .dataframe tbody tr th:only-of-type {\n",
       "        vertical-align: middle;\n",
       "    }\n",
       "\n",
       "    .dataframe tbody tr th {\n",
       "        vertical-align: top;\n",
       "    }\n",
       "\n",
       "    .dataframe thead th {\n",
       "        text-align: right;\n",
       "    }\n",
       "</style>\n",
       "<table border=\"1\" class=\"dataframe\">\n",
       "  <thead>\n",
       "    <tr style=\"text-align: right;\">\n",
       "      <th></th>\n",
       "      <th>수학</th>\n",
       "      <th>영어</th>\n",
       "      <th>과학</th>\n",
       "    </tr>\n",
       "  </thead>\n",
       "  <tbody>\n",
       "    <tr>\n",
       "      <th>둘리</th>\n",
       "      <td>79</td>\n",
       "      <td>77</td>\n",
       "      <td>71</td>\n",
       "    </tr>\n",
       "    <tr>\n",
       "      <th>또치</th>\n",
       "      <td>99</td>\n",
       "      <td>86</td>\n",
       "      <td>68</td>\n",
       "    </tr>\n",
       "    <tr>\n",
       "      <th>도우너</th>\n",
       "      <td>78</td>\n",
       "      <td>88</td>\n",
       "      <td>73</td>\n",
       "    </tr>\n",
       "  </tbody>\n",
       "</table>\n",
       "</div>"
      ],
      "text/plain": [
       "     수학  영어  과학\n",
       "둘리   79  77  71\n",
       "또치   99  86  68\n",
       "도우너  78  88  73"
      ]
     },
     "execution_count": 131,
     "metadata": {},
     "output_type": "execute_result"
    }
   ],
   "source": [
    "df"
   ]
  },
  {
   "cell_type": "code",
   "execution_count": 135,
   "id": "2e029591-6c66-4875-9b49-935c958ee61e",
   "metadata": {},
   "outputs": [
    {
     "data": {
      "text/html": [
       "<div>\n",
       "<style scoped>\n",
       "    .dataframe tbody tr th:only-of-type {\n",
       "        vertical-align: middle;\n",
       "    }\n",
       "\n",
       "    .dataframe tbody tr th {\n",
       "        vertical-align: top;\n",
       "    }\n",
       "\n",
       "    .dataframe thead th {\n",
       "        text-align: right;\n",
       "    }\n",
       "</style>\n",
       "<table border=\"1\" class=\"dataframe\">\n",
       "  <thead>\n",
       "    <tr style=\"text-align: right;\">\n",
       "      <th></th>\n",
       "      <th>수학</th>\n",
       "      <th>영어</th>\n",
       "      <th>과학</th>\n",
       "    </tr>\n",
       "  </thead>\n",
       "  <tbody>\n",
       "    <tr>\n",
       "      <th>둘리</th>\n",
       "      <td>79</td>\n",
       "      <td>NaN</td>\n",
       "      <td>71</td>\n",
       "    </tr>\n",
       "    <tr>\n",
       "      <th>또치</th>\n",
       "      <td>99</td>\n",
       "      <td>86.0</td>\n",
       "      <td>68</td>\n",
       "    </tr>\n",
       "    <tr>\n",
       "      <th>도우너</th>\n",
       "      <td>78</td>\n",
       "      <td>88.0</td>\n",
       "      <td>73</td>\n",
       "    </tr>\n",
       "  </tbody>\n",
       "</table>\n",
       "</div>"
      ],
      "text/plain": [
       "     수학    영어  과학\n",
       "둘리   79   NaN  71\n",
       "또치   99  86.0  68\n",
       "도우너  78  88.0  73"
      ]
     },
     "execution_count": 135,
     "metadata": {},
     "output_type": "execute_result"
    }
   ],
   "source": [
    "# 둘리의 영어점수를 빈값(nan)으로 표시\n",
    "# 빈 값을 넣으면 해당 값이 들어간 열이 float 타입으로 자동 형변환됨\n",
    "# df.loc['둘리','영어'] = np.nan\n",
    "df"
   ]
  },
  {
   "cell_type": "code",
   "execution_count": 138,
   "id": "3ef08187-29cb-4018-a25f-cb6128a9a899",
   "metadata": {},
   "outputs": [
    {
     "data": {
      "text/html": [
       "<div>\n",
       "<style scoped>\n",
       "    .dataframe tbody tr th:only-of-type {\n",
       "        vertical-align: middle;\n",
       "    }\n",
       "\n",
       "    .dataframe tbody tr th {\n",
       "        vertical-align: top;\n",
       "    }\n",
       "\n",
       "    .dataframe thead th {\n",
       "        text-align: right;\n",
       "    }\n",
       "</style>\n",
       "<table border=\"1\" class=\"dataframe\">\n",
       "  <thead>\n",
       "    <tr style=\"text-align: right;\">\n",
       "      <th></th>\n",
       "      <th>수학</th>\n",
       "      <th>영어</th>\n",
       "      <th>과학</th>\n",
       "    </tr>\n",
       "  </thead>\n",
       "  <tbody>\n",
       "    <tr>\n",
       "      <th>또치</th>\n",
       "      <td>99</td>\n",
       "      <td>86.0</td>\n",
       "      <td>68</td>\n",
       "    </tr>\n",
       "    <tr>\n",
       "      <th>도우너</th>\n",
       "      <td>78</td>\n",
       "      <td>88.0</td>\n",
       "      <td>73</td>\n",
       "    </tr>\n",
       "  </tbody>\n",
       "</table>\n",
       "</div>"
      ],
      "text/plain": [
       "     수학    영어  과학\n",
       "또치   99  86.0  68\n",
       "도우너  78  88.0  73"
      ]
     },
     "execution_count": 138,
     "metadata": {},
     "output_type": "execute_result"
    }
   ],
   "source": [
    "# 빈 값이 있는 행 삭제\n",
    "df = df.dropna(axis = 0)\n",
    "df"
   ]
  },
  {
   "cell_type": "code",
   "execution_count": 139,
   "id": "8d9a1a70-4f23-4b93-b378-89fb5803f237",
   "metadata": {},
   "outputs": [
    {
     "data": {
      "text/html": [
       "<div>\n",
       "<style scoped>\n",
       "    .dataframe tbody tr th:only-of-type {\n",
       "        vertical-align: middle;\n",
       "    }\n",
       "\n",
       "    .dataframe tbody tr th {\n",
       "        vertical-align: top;\n",
       "    }\n",
       "\n",
       "    .dataframe thead th {\n",
       "        text-align: right;\n",
       "    }\n",
       "</style>\n",
       "<table border=\"1\" class=\"dataframe\">\n",
       "  <thead>\n",
       "    <tr style=\"text-align: right;\">\n",
       "      <th></th>\n",
       "      <th>수학</th>\n",
       "      <th>영어</th>\n",
       "      <th>과학</th>\n",
       "    </tr>\n",
       "  </thead>\n",
       "  <tbody>\n",
       "    <tr>\n",
       "      <th>또치</th>\n",
       "      <td>99</td>\n",
       "      <td>86.0</td>\n",
       "      <td>NaN</td>\n",
       "    </tr>\n",
       "    <tr>\n",
       "      <th>도우너</th>\n",
       "      <td>78</td>\n",
       "      <td>88.0</td>\n",
       "      <td>73.0</td>\n",
       "    </tr>\n",
       "  </tbody>\n",
       "</table>\n",
       "</div>"
      ],
      "text/plain": [
       "     수학    영어    과학\n",
       "또치   99  86.0   NaN\n",
       "도우너  78  88.0  73.0"
      ]
     },
     "execution_count": 139,
     "metadata": {},
     "output_type": "execute_result"
    }
   ],
   "source": [
    "# 또치의 과학 점수를 빈값으로 설정\n",
    "df.loc['또치','과학'] = np.nan\n",
    "df"
   ]
  },
  {
   "cell_type": "code",
   "execution_count": 140,
   "id": "41cf0e35-fbc9-4561-9945-4f5ed20c34b4",
   "metadata": {},
   "outputs": [
    {
     "data": {
      "text/html": [
       "<div>\n",
       "<style scoped>\n",
       "    .dataframe tbody tr th:only-of-type {\n",
       "        vertical-align: middle;\n",
       "    }\n",
       "\n",
       "    .dataframe tbody tr th {\n",
       "        vertical-align: top;\n",
       "    }\n",
       "\n",
       "    .dataframe thead th {\n",
       "        text-align: right;\n",
       "    }\n",
       "</style>\n",
       "<table border=\"1\" class=\"dataframe\">\n",
       "  <thead>\n",
       "    <tr style=\"text-align: right;\">\n",
       "      <th></th>\n",
       "      <th>수학</th>\n",
       "      <th>영어</th>\n",
       "      <th>과학</th>\n",
       "    </tr>\n",
       "  </thead>\n",
       "  <tbody>\n",
       "    <tr>\n",
       "      <th>또치</th>\n",
       "      <td>99</td>\n",
       "      <td>86.0</td>\n",
       "      <td>0.0</td>\n",
       "    </tr>\n",
       "    <tr>\n",
       "      <th>도우너</th>\n",
       "      <td>78</td>\n",
       "      <td>88.0</td>\n",
       "      <td>73.0</td>\n",
       "    </tr>\n",
       "  </tbody>\n",
       "</table>\n",
       "</div>"
      ],
      "text/plain": [
       "     수학    영어    과학\n",
       "또치   99  86.0   0.0\n",
       "도우너  78  88.0  73.0"
      ]
     },
     "execution_count": 140,
     "metadata": {},
     "output_type": "execute_result"
    }
   ],
   "source": [
    "# 비어있는 점수를 모두 0으로 설정\n",
    "df.fillna(0)"
   ]
  },
  {
   "cell_type": "code",
   "execution_count": null,
   "id": "3a2dc0bc-b217-48af-8e79-d1b997ba1468",
   "metadata": {},
   "outputs": [],
   "source": []
  }
 ],
 "metadata": {
  "kernelspec": {
   "display_name": "Python 3 (ipykernel)",
   "language": "python",
   "name": "python3"
  },
  "language_info": {
   "codemirror_mode": {
    "name": "ipython",
    "version": 3
   },
   "file_extension": ".py",
   "mimetype": "text/x-python",
   "name": "python",
   "nbconvert_exporter": "python",
   "pygments_lexer": "ipython3",
   "version": "3.10.18"
  }
 },
 "nbformat": 4,
 "nbformat_minor": 5
}
