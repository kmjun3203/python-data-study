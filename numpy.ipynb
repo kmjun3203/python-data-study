{
 "cells": [
  {
   "cell_type": "markdown",
   "id": "3a47b627-cd43-4016-b8e5-19219e11cbd1",
   "metadata": {},
   "source": [
    "## 3. 넘파이\n",
    "넘파이란? 다차원배열과 수학 함수를 제공하는 모듈(라이브러리)  \n",
    "모듈이란? 필요한 기능을 미리 만들어두고 가져다 쓰는 것"
   ]
  },
  {
   "cell_type": "markdown",
   "id": "a2d6aeb6-c449-49bd-a669-a87b775d02e1",
   "metadata": {},
   "source": [
    "3.1 ndarray\n",
    "다차원 배열  \n",
    "다차원 배열의 특징:  \n",
    "1.리스트와 비교했을때 계산 속도가 빠름  \n",
    "2.리스트와 달리 모든 요소의 타입이 같음"
   ]
  },
  {
   "cell_type": "code",
   "execution_count": 8,
   "id": "ac080d15-8af5-44df-bebf-5a266e364d9a",
   "metadata": {},
   "outputs": [],
   "source": [
    "# 먼저 numpy 모듈 가져오기\n",
    "# 외부에 있는 모듈 파일을 가지고 올때는 import\n",
    "# 모듈의 이름이 길때는 별칭 붙이기 as np\n",
    "import numpy as np"
   ]
  },
  {
   "cell_type": "code",
   "execution_count": 10,
   "id": "45faf19b-aa32-4368-96e6-0b7c2db24ef9",
   "metadata": {},
   "outputs": [
    {
     "data": {
      "text/plain": [
       "array(['a', 'b', 'c'], dtype='<U1')"
      ]
     },
     "execution_count": 10,
     "metadata": {},
     "output_type": "execute_result"
    }
   ],
   "source": [
    "# 넘파이 배열 만들기\n",
    "# 입력값: 리스트\n",
    "# 결과: 넘파이 배열\n",
    "a = np.array([1,2,3])\n",
    "a\n",
    "b = np.array(['a', 'b', 'c'])\n",
    "b"
   ]
  },
  {
   "cell_type": "markdown",
   "id": "0e09a273-929d-47f7-8547-7ff51fc5cfba",
   "metadata": {},
   "source": [
    "2차원 배열  \n"
   ]
  },
  {
   "cell_type": "code",
   "execution_count": 13,
   "id": "11baf4cc-6a73-46f8-8f0b-daea445393af",
   "metadata": {},
   "outputs": [
    {
     "data": {
      "text/plain": [
       "array([[1, 2, 3],\n",
       "       [4, 5, 6],\n",
       "       [7, 8, 9]])"
      ]
     },
     "execution_count": 13,
     "metadata": {},
     "output_type": "execute_result"
    }
   ],
   "source": [
    "# 2차원 배열 생성\n",
    "# 2차원 배열은 1차원 배열의 묶음\n",
    "c = np.array([[1,2,3], [4,5,6]])\n",
    "c\n",
    "# 3행 3열 크기의 2차원 배열 생성\n",
    "d = np.array([[1,2,3], [4,5,6], [7,8,9]])\n",
    "d"
   ]
  },
  {
   "cell_type": "code",
   "execution_count": 19,
   "id": "a0826536-8431-4ed6-a621-1421109524cb",
   "metadata": {},
   "outputs": [
    {
     "data": {
      "text/plain": [
       "array([1, 3, 5, 7, 9])"
      ]
     },
     "execution_count": 19,
     "metadata": {},
     "output_type": "execute_result"
    }
   ],
   "source": [
    "# arrange : 숫자 여러개를 생성하는 함수\n",
    "# 연속된 숫자를 10개 생성\n",
    "a = np.arange(10)\n",
    "# 1부터 10까지 생성\n",
    "b = np.arange(1,11)\n",
    "# 1부터 10까지 2씩 건너뛰면서 생성\n",
    "c = np.arange(1,11,2)\n",
    "c"
   ]
  },
  {
   "cell_type": "code",
   "execution_count": 45,
   "id": "064d5725-dda0-49b7-935e-4207831b5c94",
   "metadata": {},
   "outputs": [
    {
     "name": "stdout",
     "output_type": "stream",
     "text": [
      "[85 90 78 92 88]\n",
      "[160 165 170 175 180]\n",
      "[1200 1500 1800 2100]\n",
      "[20 22 19 25 30]\n"
     ]
    }
   ],
   "source": [
    "# 연습문제\n",
    "scores = np.array([85,90,78,92,88])\n",
    "heights = np.array([160,165,170,175,180])\n",
    "prices = np.array([1200,1500,1800,2100])\n",
    "temps = np.array([20,22,19,25,30])\n",
    "print(scores)\n",
    "print(heights)\n",
    "print(prices)\n",
    "print(temps)"
   ]
  },
  {
   "cell_type": "code",
   "execution_count": 47,
   "id": "278aeb35-cdd7-40c2-88a9-9fc006e75e90",
   "metadata": {},
   "outputs": [
    {
     "name": "stdout",
     "output_type": "stream",
     "text": [
      "[0 1 2 3 4]\n",
      "[0 1 2 3 4 5 6 7 8 9]\n",
      "[3 4 5 6 7]\n",
      "[-2 -1  0  1  2]\n"
     ]
    }
   ],
   "source": [
    "# 연습문제\n",
    "a = np.arange(5)\n",
    "b = np.arange(10)\n",
    "c = np.arange(3, 8)\n",
    "d = np.arange(-2, 3)\n",
    "print(a)\n",
    "print(b)\n",
    "print(c)\n",
    "print(d)"
   ]
  },
  {
   "cell_type": "code",
   "execution_count": 43,
   "id": "b3315d83-71c7-47e8-a6d3-0f51f93acda5",
   "metadata": {},
   "outputs": [
    {
     "data": {
      "text/plain": [
       "array([[0., 0., 0.],\n",
       "       [0., 0., 0.],\n",
       "       [0., 0., 0.]])"
      ]
     },
     "execution_count": 43,
     "metadata": {},
     "output_type": "execute_result"
    }
   ],
   "source": [
    "# zeros : 배열을 생성하고 값을 0으로 초기화\n",
    "np.zeros(10)\n",
    "# 2차원 배열 생성\n",
    "np.zeros((3,3)) # 행 열"
   ]
  },
  {
   "cell_type": "code",
   "execution_count": 46,
   "id": "cb06d856-64ed-48e0-bb20-2d6d75f8c2ee",
   "metadata": {},
   "outputs": [
    {
     "name": "stdout",
     "output_type": "stream",
     "text": [
      "int64\n",
      "1\n",
      "(3,)\n"
     ]
    }
   ],
   "source": [
    "# 3개 크기의 1차원 배열 생성\n",
    "# 파이썬의 리스트와 달리 넘파이 배열은 모든 원소의 자료형이 같다.\n",
    "a = np.array([1,2,3])\n",
    "print(a.dtype) # 자료형\n",
    "print(a.ndim) # 배열의 차원\n",
    "print(a.shape) #행열 크기"
   ]
  },
  {
   "cell_type": "code",
   "execution_count": 49,
   "id": "511f5115-d2a2-4f0e-af7d-d5b112b97067",
   "metadata": {},
   "outputs": [
    {
     "name": "stdout",
     "output_type": "stream",
     "text": [
      "int64\n",
      "2\n",
      "(2, 3)\n"
     ]
    }
   ],
   "source": [
    "# 2행 3열의 2차원 배열 생성\n",
    "b = np.array([[1,2,3], [4,5,6]])\n",
    "print(b.dtype)\n",
    "print(b.ndim)\n",
    "print(b.shape)"
   ]
  },
  {
   "cell_type": "code",
   "execution_count": 53,
   "id": "4dd72646-c98e-4102-a592-b40aa22a0122",
   "metadata": {},
   "outputs": [
    {
     "data": {
      "text/plain": [
       "dtype('int32')"
      ]
     },
     "execution_count": 53,
     "metadata": {},
     "output_type": "execute_result"
    }
   ],
   "source": [
    "# 실수형 1차원 배열 생성\n",
    "arr = np.array([1.1,2.1,3.1])\n",
    "# 자료형 확인\n",
    "arr.dtype\n",
    "# 배열의 형변환\n",
    "# float -> int\n",
    "arr2 = arr.astype(np.int32)\n",
    "arr2\n",
    "arr2.dtype"
   ]
  },
  {
   "cell_type": "code",
   "execution_count": 54,
   "id": "3a336452-597b-4379-8d8f-a192324e35da",
   "metadata": {},
   "outputs": [
    {
     "name": "stdout",
     "output_type": "stream",
     "text": [
      "4\n",
      "5\n",
      "6\n"
     ]
    }
   ],
   "source": [
    "lis = [1,2,3]\n",
    "# 파이썬 각 원소에 3씩 더하기\n",
    "# 리스트의 원소에 하나씩 계산하려면 for 반복문을 사용해야한다.\n",
    "for i in lis:\n",
    "    print(i+3)"
   ]
  },
  {
   "cell_type": "code",
   "execution_count": 56,
   "id": "5d1445a7-2448-4f04-ba48-92744d259d56",
   "metadata": {},
   "outputs": [
    {
     "data": {
      "text/plain": [
       "array([4, 5, 6])"
      ]
     },
     "execution_count": 56,
     "metadata": {},
     "output_type": "execute_result"
    }
   ],
   "source": [
    "# 넘파이 배열 생성\n",
    "# 넘파이 배열은 for문 없이 각 원소에 값을 계산할 수 있다.\n",
    "# 넘파이 배열을 자동으로 각 원소에 반복 수행이 된다.\n",
    "a = np.array([1,2,3])\n",
    "# 각 원소에 3씩 더하기\n",
    "a + 3"
   ]
  },
  {
   "cell_type": "code",
   "execution_count": 58,
   "id": "a6262de1-33b9-4746-a46e-2ff21f7603d2",
   "metadata": {},
   "outputs": [
    {
     "data": {
      "text/plain": [
       "array([False, False, False])"
      ]
     },
     "execution_count": 58,
     "metadata": {},
     "output_type": "execute_result"
    }
   ],
   "source": [
    "a  = np.array([1,2,3])\n",
    "b = np.array([4,5,6])\n",
    "\n",
    "# 배열 두개를 비고\n",
    "a > b"
   ]
  },
  {
   "cell_type": "markdown",
   "id": "9e9ce76b-a005-40c4-ae79-d38718aabed6",
   "metadata": {},
   "source": [
    "인덱스와 슬라이스"
   ]
  },
  {
   "cell_type": "code",
   "execution_count": 64,
   "id": "ce291bc0-9240-41b4-99cb-9bfcb3ca6aba",
   "metadata": {},
   "outputs": [
    {
     "name": "stdout",
     "output_type": "stream",
     "text": [
      "[0 1 2 3 4 5 6 7 8 9]\n"
     ]
    },
    {
     "data": {
      "text/plain": [
       "array([ 0, 99,  2, 88, 88, 88,  6,  7,  8,  9])"
      ]
     },
     "execution_count": 64,
     "metadata": {},
     "output_type": "execute_result"
    }
   ],
   "source": [
    "# 1차원 배열 생성\n",
    "# 0~9 숫자 만들고 1차원 배열 생성\n",
    "a = np.arange(10)\n",
    "print(a)\n",
    "# 배열의 원소 하나 꺼내기\n",
    "a[1]\n",
    "# 범위로 값 꺼내기 (슬라이스)\n",
    "a[3:6]\n",
    "# 원소 값 변경하기\n",
    "# 두번째 원소의 값 변경하기\n",
    "a[1] = 99\n",
    "a\n",
    "# 특정 범위에 있는 값을 모두 변경하기\n",
    "# 3,4,5 번째 데이터 변경\n",
    "a[3:6] = 88\n",
    "a"
   ]
  },
  {
   "cell_type": "code",
   "execution_count": 66,
   "id": "ff8d890c-aa31-45f8-9280-07ec4d364acd",
   "metadata": {},
   "outputs": [
    {
     "data": {
      "text/plain": [
       "array([ 0, 99,  2, 88, 88, 88,  6,  7,  8,  9])"
      ]
     },
     "execution_count": 66,
     "metadata": {},
     "output_type": "execute_result"
    }
   ],
   "source": [
    "# 배열 전체 선택\n",
    "# a를 출력하는 것과 같다.\n",
    "a[:]"
   ]
  },
  {
   "cell_type": "code",
   "execution_count": 67,
   "id": "f1d3fed5-fc8e-44e7-95e5-2cea7ff12bbc",
   "metadata": {},
   "outputs": [
    {
     "data": {
      "text/plain": [
       "array([999, 999, 999, 999, 999, 999, 999, 999, 999, 999])"
      ]
     },
     "execution_count": 67,
     "metadata": {},
     "output_type": "execute_result"
    }
   ],
   "source": [
    "# 슬라이스로 배열 전체를 선택하고, 값 변경\n",
    "a[:] = 999\n",
    "a"
   ]
  },
  {
   "cell_type": "code",
   "execution_count": 68,
   "id": "3c8f617f-4a29-4911-8b54-d6feac41e07c",
   "metadata": {},
   "outputs": [],
   "source": [
    "# 연습문제\n",
    "arr = np.array([10,20,30,40,50])"
   ]
  },
  {
   "cell_type": "code",
   "execution_count": 72,
   "id": "645337ce-ce91-4b88-b33a-5fa67769eb78",
   "metadata": {},
   "outputs": [
    {
     "name": "stdout",
     "output_type": "stream",
     "text": [
      "10\n",
      "30\n",
      "50\n"
     ]
    }
   ],
   "source": [
    "# 연습문제\n",
    "print(arr[0])\n",
    "print(arr[2])\n",
    "print(arr[-1])"
   ]
  },
  {
   "cell_type": "code",
   "execution_count": 73,
   "id": "54fdd3b4-a6ac-451b-9cf8-9927c17d8a56",
   "metadata": {},
   "outputs": [
    {
     "data": {
      "text/plain": [
       "array([ 10, 200,  30,  40,  50])"
      ]
     },
     "execution_count": 73,
     "metadata": {},
     "output_type": "execute_result"
    }
   ],
   "source": [
    "arr[1] = 200\n",
    "arr"
   ]
  },
  {
   "cell_type": "code",
   "execution_count": 74,
   "id": "2b32fcea-db22-42d8-a4f7-a7e295d6f05c",
   "metadata": {},
   "outputs": [
    {
     "data": {
      "text/plain": [
       "array([ 10, 200,  30, 999,  50])"
      ]
     },
     "execution_count": 74,
     "metadata": {},
     "output_type": "execute_result"
    }
   ],
   "source": [
    "arr[3] = 999\n",
    "arr"
   ]
  },
  {
   "cell_type": "code",
   "execution_count": 75,
   "id": "2a432e2a-0d3c-4191-9ee6-a92ca6dabc61",
   "metadata": {},
   "outputs": [],
   "source": [
    "# 연습문제\n",
    "arr = np.array(['가','나','다','라','마'])"
   ]
  },
  {
   "cell_type": "code",
   "execution_count": 79,
   "id": "0b518bbc-b4a4-4505-ba37-689dce6691f5",
   "metadata": {},
   "outputs": [
    {
     "name": "stdout",
     "output_type": "stream",
     "text": [
      "나\n",
      "라\n",
      "마\n",
      "['하' '나' '호' '라' '마']\n",
      "['하' '나' '호' '라' '마']\n"
     ]
    }
   ],
   "source": [
    "# 연습문제\n",
    "print(arr[1])\n",
    "print(arr[3])\n",
    "print(arr[-1])\n",
    "arr[0] = '하'\n",
    "print(arr)\n",
    "arr[2] = '호'\n",
    "print(arr)"
   ]
  },
  {
   "cell_type": "code",
   "execution_count": 187,
   "id": "e8d20117-b1de-4f12-842f-722c1e541640",
   "metadata": {},
   "outputs": [],
   "source": [
    "# 연습문제\n",
    "arr = np.array([10,20,30,40,50,60,70])"
   ]
  },
  {
   "cell_type": "code",
   "execution_count": 85,
   "id": "c8b11023-3dea-4611-abad-01872a6a2231",
   "metadata": {},
   "outputs": [
    {
     "name": "stdout",
     "output_type": "stream",
     "text": [
      "[10 20 30]\n",
      "[40 50 60 70]\n",
      "[20 30 40 50]\n"
     ]
    }
   ],
   "source": [
    "print(arr[:3])\n",
    "print(arr[3:])\n",
    "print(arr[1:5])"
   ]
  },
  {
   "cell_type": "code",
   "execution_count": 86,
   "id": "d576baae-938e-4492-a8e9-f4944a65826e",
   "metadata": {},
   "outputs": [],
   "source": [
    "# 연습문제\n",
    "arr = np.array(['a','b','c','d','e','f','g'])"
   ]
  },
  {
   "cell_type": "code",
   "execution_count": 87,
   "id": "ead2fb9d-9cef-4e38-a509-3982770127d4",
   "metadata": {},
   "outputs": [
    {
     "name": "stdout",
     "output_type": "stream",
     "text": [
      "['a' 'b' 'c']\n",
      "['d' 'e' 'f' 'g']\n",
      "['b' 'c' 'd' 'e']\n"
     ]
    }
   ],
   "source": [
    "print(arr[:3])\n",
    "print(arr[3:])\n",
    "print(arr[1:5])"
   ]
  },
  {
   "cell_type": "markdown",
   "id": "64796e0f-b6a7-4866-a110-e1863db6015c",
   "metadata": {},
   "source": [
    "2차원 배열의 인덱싱"
   ]
  },
  {
   "cell_type": "code",
   "execution_count": 88,
   "id": "47d1d2ac-a64b-4cd2-ac52-0eb2b0cfb866",
   "metadata": {},
   "outputs": [
    {
     "name": "stdout",
     "output_type": "stream",
     "text": [
      "[[1 2 3]\n",
      " [4 5 6]\n",
      " [7 8 9]]\n"
     ]
    }
   ],
   "source": [
    "arr = np.array([[1,2,3],[4,5,6],[7,8,9]])\n",
    "print(arr)"
   ]
  },
  {
   "cell_type": "code",
   "execution_count": 92,
   "id": "93b2b222-d121-48e7-a6e8-9341a90e07f6",
   "metadata": {},
   "outputs": [
    {
     "data": {
      "text/plain": [
       "array([1, 2, 3])"
      ]
     },
     "execution_count": 92,
     "metadata": {},
     "output_type": "execute_result"
    }
   ],
   "source": [
    "# 2차원 배열의 인덱스\n",
    "# 행(인덱스)\n",
    "# 열(컬럼)\n",
    "# 첫번째 행 꺼내기\n",
    "arr[0]"
   ]
  },
  {
   "cell_type": "code",
   "execution_count": 101,
   "id": "418d5be0-c7ad-4c9d-83a1-e9e69cf0bfbf",
   "metadata": {},
   "outputs": [
    {
     "data": {
      "text/plain": [
       "np.int64(5)"
      ]
     },
     "execution_count": 101,
     "metadata": {},
     "output_type": "execute_result"
    }
   ],
   "source": [
    "# 1 꺼내기\n",
    "arr[0][0]\n",
    "# 9 꺼내기\n",
    "arr[2][2]\n",
    "# 5 꺼내기\n",
    "arr[1][1]\n",
    "arr[1,1]"
   ]
  },
  {
   "cell_type": "code",
   "execution_count": 103,
   "id": "5cc466d0-a771-459b-b3c1-a59383c27474",
   "metadata": {},
   "outputs": [
    {
     "data": {
      "text/plain": [
       "array([[0, 2, 3],\n",
       "       [4, 0, 6],\n",
       "       [7, 8, 9]])"
      ]
     },
     "execution_count": 103,
     "metadata": {},
     "output_type": "execute_result"
    }
   ],
   "source": [
    "# 배열 원소의 값 바꾸기\n",
    "# 0 -> 1\n",
    "arr[0,0] = 0\n",
    "arr\n",
    "# 5 -> 0\n",
    "arr[1,1] = 0\n",
    "arr"
   ]
  },
  {
   "cell_type": "markdown",
   "id": "f2120663-8a03-4723-9578-f3901d934283",
   "metadata": {},
   "source": [
    "2차원 배열 슬라이스"
   ]
  },
  {
   "cell_type": "code",
   "execution_count": 105,
   "id": "8e70884d-c778-4b36-9f51-cae09b9348cf",
   "metadata": {},
   "outputs": [
    {
     "data": {
      "text/plain": [
       "array([[1, 2, 3],\n",
       "       [4, 5, 6],\n",
       "       [7, 8, 9]])"
      ]
     },
     "execution_count": 105,
     "metadata": {},
     "output_type": "execute_result"
    }
   ],
   "source": [
    "arr = np.array([[1,2,3],[4,5,6],[7,8,9]])\n",
    "arr"
   ]
  },
  {
   "cell_type": "code",
   "execution_count": 111,
   "id": "b84667cc-ee1e-4613-b787-c878a21d5e61",
   "metadata": {},
   "outputs": [
    {
     "data": {
      "text/plain": [
       "array([[5, 6],\n",
       "       [8, 9]])"
      ]
     },
     "execution_count": 111,
     "metadata": {},
     "output_type": "execute_result"
    }
   ],
   "source": [
    "# 행: 1번 2번\n",
    "# 열: 1번 2번\n",
    "arr[1:3,1:3]"
   ]
  },
  {
   "cell_type": "code",
   "execution_count": 113,
   "id": "25af3a1c-070d-4810-906b-d7b956b1b174",
   "metadata": {},
   "outputs": [
    {
     "data": {
      "text/plain": [
       "array([[1, 2],\n",
       "       [4, 5]])"
      ]
     },
     "execution_count": 113,
     "metadata": {},
     "output_type": "execute_result"
    }
   ],
   "source": [
    "# 행: 0번 1번\n",
    "# 열: 0번 1번\n",
    "arr[ :2, :2]"
   ]
  },
  {
   "cell_type": "code",
   "execution_count": 114,
   "id": "f057a01b-b4bc-40fd-8121-0c5be6da3171",
   "metadata": {},
   "outputs": [
    {
     "data": {
      "text/plain": [
       "array([4, 5])"
      ]
     },
     "execution_count": 114,
     "metadata": {},
     "output_type": "execute_result"
    }
   ],
   "source": [
    "# 행: 1번 행만 선택\n",
    "# 열: 0 1 번 \n",
    "arr[1,0:2]"
   ]
  },
  {
   "cell_type": "code",
   "execution_count": 186,
   "id": "5d0afa28-2d1d-4c7b-b736-1405b16224b2",
   "metadata": {},
   "outputs": [
    {
     "data": {
      "text/plain": [
       "array([[10, 20, 30],\n",
       "       [40, 50, 60],\n",
       "       [70, 80, 90]])"
      ]
     },
     "execution_count": 186,
     "metadata": {},
     "output_type": "execute_result"
    }
   ],
   "source": [
    "# 연습문제\n",
    "arr = np.array([[10,20,30],[40,50,60],[70,80,90]])\n",
    "arr"
   ]
  },
  {
   "cell_type": "code",
   "execution_count": 126,
   "id": "61310a5b-deb3-486e-8d7b-0b8bba1265dd",
   "metadata": {},
   "outputs": [
    {
     "name": "stdout",
     "output_type": "stream",
     "text": [
      "20\n",
      "70\n",
      "[40 50 60]\n",
      "[20 50 80]\n",
      "[[ 10  20 300]\n",
      " [ 40  50  60]\n",
      " [ 70  80  90]]\n"
     ]
    }
   ],
   "source": [
    "# 연습문제\n",
    "print(arr[0, 1])\n",
    "print(arr[2, 0])\n",
    "print(arr[1])\n",
    "print(arr[ : , 1])\n",
    "arr[0, 2] = 300\n",
    "print(arr)"
   ]
  },
  {
   "cell_type": "code",
   "execution_count": 185,
   "id": "d72978fe-8abc-491a-97e3-97016a11d6e2",
   "metadata": {},
   "outputs": [
    {
     "data": {
      "text/plain": [
       "array([[ 1,  2,  3,  4],\n",
       "       [ 5,  6,  7,  8],\n",
       "       [ 9, 10, 11, 12],\n",
       "       [13, 14, 15, 16]])"
      ]
     },
     "execution_count": 185,
     "metadata": {},
     "output_type": "execute_result"
    }
   ],
   "source": [
    "# 연습문제\n",
    "arr = np.array([[1,2,3,4],[5,6,7,8],[9,10,11,12],[13,14,15,16]])\n",
    "arr"
   ]
  },
  {
   "cell_type": "code",
   "execution_count": 132,
   "id": "bbf41a00-53cd-4f2b-973b-4d6111c7a72d",
   "metadata": {},
   "outputs": [
    {
     "name": "stdout",
     "output_type": "stream",
     "text": [
      "7\n",
      "13\n",
      "[ 9 10 11 12]\n",
      "[ 4  8 12 16]\n"
     ]
    },
    {
     "data": {
      "text/plain": [
       "array([[  1,   2,   3, 100],\n",
       "       [  5,   6,   7,   8],\n",
       "       [  9,  10,  11,  12],\n",
       "       [ 13,  14,  15,  16]])"
      ]
     },
     "execution_count": 132,
     "metadata": {},
     "output_type": "execute_result"
    }
   ],
   "source": [
    "print(arr[1, 2])\n",
    "print(arr[3, 0])\n",
    "print(arr[2])\n",
    "print(arr[ : , 3])\n",
    "arr[0, 3] = 100\n",
    "arr"
   ]
  },
  {
   "cell_type": "code",
   "execution_count": 133,
   "id": "efa2f969-3e1e-4c60-a4a0-73078f238dd9",
   "metadata": {},
   "outputs": [
    {
     "data": {
      "text/plain": [
       "array([[10, 20, 30],\n",
       "       [40, 50, 60],\n",
       "       [70, 80, 90]])"
      ]
     },
     "execution_count": 133,
     "metadata": {},
     "output_type": "execute_result"
    }
   ],
   "source": [
    "# 연습문제\n",
    "arr = np.array([[10,20,30],[40,50,60],[70,80,90]])\n",
    "arr"
   ]
  },
  {
   "cell_type": "code",
   "execution_count": 138,
   "id": "ff85eb05-e4af-4892-bfac-6a1f810a7e40",
   "metadata": {},
   "outputs": [
    {
     "name": "stdout",
     "output_type": "stream",
     "text": [
      "[10 20]\n",
      "[[40 50 60]\n",
      " [70 80 90]]\n",
      "[[20 30]\n",
      " [50 60]\n",
      " [80 90]]\n"
     ]
    }
   ],
   "source": [
    "# 연습문제\n",
    "print(arr[0, :2])\n",
    "print(arr[1:3])\n",
    "print(arr[ : , 1:3])"
   ]
  },
  {
   "cell_type": "markdown",
   "id": "6cb17bba-5751-421d-8fc5-0750e019e8d3",
   "metadata": {},
   "source": [
    "불리언 인덱스  \n",
    "인덱스란? 데이터의 위치"
   ]
  },
  {
   "cell_type": "code",
   "execution_count": 140,
   "id": "dae1b92e-d8f7-420c-b00e-b72e9a9b11d4",
   "metadata": {},
   "outputs": [],
   "source": [
    "# 학생 배열 생성\n",
    "students = np.array(['철수','영희','민수','철수','철수'])\n",
    "# 학생들의 대출 이력\n",
    "books = np.array([['수학의 정석', 7],['해리포터', 10],['파이썬 입문', 5], ['한국사', 5], ['데미안', 12]])"
   ]
  },
  {
   "cell_type": "code",
   "execution_count": 146,
   "id": "40782967-f957-4799-9a36-856e9551ea84",
   "metadata": {},
   "outputs": [
    {
     "data": {
      "text/plain": [
       "array([ True, False, False,  True,  True])"
      ]
     },
     "execution_count": 146,
     "metadata": {},
     "output_type": "execute_result"
    }
   ],
   "source": [
    "# 위에서 철수의 대출 이력만 조회하기\n",
    "# 배열 == '비교값'\n",
    "# 배열 전체에 철수를 비교\n",
    "# 총 5번 비교하고 bool배열 반환\n",
    "students == '철수'\n",
    "arr = (students == '철수')\n",
    "arr"
   ]
  },
  {
   "cell_type": "code",
   "execution_count": 148,
   "id": "f9155afe-ad39-4562-a3b7-3057589369b9",
   "metadata": {},
   "outputs": [
    {
     "data": {
      "text/plain": [
       "array([['수학의 정석', '7'],\n",
       "       ['한국사', '5'],\n",
       "       ['데미안', '12']], dtype='<U21')"
      ]
     },
     "execution_count": 148,
     "metadata": {},
     "output_type": "execute_result"
    }
   ],
   "source": [
    "# books 배열의 인덱스에 bool 배열 넣기\n",
    "# true 에 해당하는 원소만 반환\n",
    "# 조건에 맞는 원소를 꺼낼때 사용\n",
    "books[students == '철수']"
   ]
  },
  {
   "cell_type": "code",
   "execution_count": 150,
   "id": "92759d68-a4f5-4c1b-93de-f4028c385e57",
   "metadata": {},
   "outputs": [
    {
     "name": "stdout",
     "output_type": "stream",
     "text": [
      "[False  True  True False False]\n"
     ]
    },
    {
     "data": {
      "text/plain": [
       "array([['해리포터', '10'],\n",
       "       ['파이썬 입문', '5']], dtype='<U21')"
      ]
     },
     "execution_count": 150,
     "metadata": {},
     "output_type": "execute_result"
    }
   ],
   "source": [
    "print(students != '철수')\n",
    "# 철수가 아닌 대출 이력 찾기\n",
    "books[students != '철수']"
   ]
  },
  {
   "cell_type": "code",
   "execution_count": 155,
   "id": "c89d9e66-ae75-40b8-a5f5-18e2824c9742",
   "metadata": {},
   "outputs": [],
   "source": [
    "# '수학의 정석'을 찾아서 제목을 books == '수학의 정석'으로 바꾸기\n",
    "books == '수학의 정석'\n",
    "# bool 배열로 원소를 찾고 값 교체\n",
    "books[books == '수학의 정석'] = '자바의 정석'"
   ]
  },
  {
   "cell_type": "code",
   "execution_count": 157,
   "id": "16881192-b4e9-4eb8-bec4-cb72537f7ac6",
   "metadata": {},
   "outputs": [
    {
     "data": {
      "text/plain": [
       "array([['자바의 정석', '7'],\n",
       "       ['7', '7'],\n",
       "       ['7', '7'],\n",
       "       ['한국사', '5'],\n",
       "       ['데미안', '12']], dtype='<U21')"
      ]
     },
     "execution_count": 157,
     "metadata": {},
     "output_type": "execute_result"
    }
   ],
   "source": [
    "# 대출 이력 중에서 철수가 아닌 항목을 찾고\n",
    "# 행 전체를 7로 바꾸기\n",
    "students != '철수'\n",
    "books[students != '철수'] = 7\n",
    "books"
   ]
  },
  {
   "cell_type": "code",
   "execution_count": 182,
   "id": "4fa122fe-8b8d-40d2-adfd-0c3013098193",
   "metadata": {},
   "outputs": [],
   "source": [
    "# 연습문제\n",
    "arr = np.array([10,20,30,40,50,60,70])\n"
   ]
  },
  {
   "cell_type": "code",
   "execution_count": 184,
   "id": "efd7f9fb-d855-4db9-8a1f-c4bf95b22a5f",
   "metadata": {},
   "outputs": [
    {
     "name": "stdout",
     "output_type": "stream",
     "text": [
      "[40 50 60 70]\n",
      "[10 20 30 40 50 60 70]\n"
     ]
    },
    {
     "data": {
      "text/plain": [
       "array([ 10,  20,  30,  40,  50, 999, 999])"
      ]
     },
     "execution_count": 184,
     "metadata": {},
     "output_type": "execute_result"
    }
   ],
   "source": [
    "# 연습문제\n",
    "result = arr[arr > 30]\n",
    "print(result)\n",
    "result = arr[arr%2 == 0]\n",
    "print(result)\n",
    "arr[arr > 50] = 999\n",
    "arr"
   ]
  },
  {
   "cell_type": "code",
   "execution_count": 189,
   "id": "a977c280-e924-4f4b-b357-c5f157152463",
   "metadata": {},
   "outputs": [],
   "source": [
    "# 연습문제\n",
    "employees = np.array(['짱구','철수','유리','맹구','훈이'])\n",
    "salaries = np.array([250,320,280,400,150])"
   ]
  },
  {
   "cell_type": "code",
   "execution_count": 198,
   "id": "73ccfa29-000b-4d4b-908d-21ac0bfd11e0",
   "metadata": {},
   "outputs": [
    {
     "name": "stdout",
     "output_type": "stream",
     "text": [
      "[400]\n",
      "['철수' '맹구']\n"
     ]
    },
    {
     "data": {
      "text/plain": [
       "array([250, 320, 280, 400, 200])"
      ]
     },
     "execution_count": 198,
     "metadata": {},
     "output_type": "execute_result"
    }
   ],
   "source": [
    "# 연습문제\n",
    "print(salaries[employees == '맹구'])\n",
    "print(employees[salaries >= 300])\n",
    "salaries[salaries < 200] = 200\n",
    "salaries"
   ]
  },
  {
   "cell_type": "markdown",
   "id": "4902907a-2503-4adb-a8c2-2b6750870753",
   "metadata": {},
   "source": [
    "3.2 배열의 모양 바꾸기"
   ]
  },
  {
   "cell_type": "code",
   "execution_count": 200,
   "id": "4426c2de-a296-4c82-941c-dcf74ee0e484",
   "metadata": {},
   "outputs": [
    {
     "name": "stdout",
     "output_type": "stream",
     "text": [
      "[1 2 3 4 5 6 7 8 9]\n"
     ]
    },
    {
     "data": {
      "text/plain": [
       "array([[1, 2, 3],\n",
       "       [4, 5, 6],\n",
       "       [7, 8, 9]])"
      ]
     },
     "execution_count": 200,
     "metadata": {},
     "output_type": "execute_result"
    }
   ],
   "source": [
    "# 1~9 숫자가 담긴 1차원 배열 생성\n",
    "# reshape: 배열의 형태를 바꾸는 함수\n",
    "# 1차원 -> 2차원\n",
    "# 3행 3열 크기의 배열로 변환\n",
    "print(np.arange(1,10))\n",
    "arr = np.arange(1,10).reshape(3,3)\n",
    "arr"
   ]
  },
  {
   "cell_type": "code",
   "execution_count": 201,
   "id": "199879e6-372b-435c-b261-829500152e80",
   "metadata": {},
   "outputs": [
    {
     "name": "stdout",
     "output_type": "stream",
     "text": [
      "[ 1  2  3  4  5  6  7  8  9 10 11 12 13 14 15 16]\n"
     ]
    },
    {
     "data": {
      "text/plain": [
       "array([[ 1,  2,  3,  4],\n",
       "       [ 5,  6,  7,  8],\n",
       "       [ 9, 10, 11, 12],\n",
       "       [13, 14, 15, 16]])"
      ]
     },
     "execution_count": 201,
     "metadata": {},
     "output_type": "execute_result"
    }
   ],
   "source": [
    "# 1~16 숫자가 담긴 1차원 배열\n",
    "# 1차원 -> 2차원\n",
    "print(np.arange(1,17))\n",
    "a = np.arange(1,17).reshape(4,4)\n",
    "a"
   ]
  },
  {
   "cell_type": "code",
   "execution_count": 202,
   "id": "8c7a3fa1-9f6b-4419-85b6-db458ae8446c",
   "metadata": {},
   "outputs": [
    {
     "data": {
      "text/plain": [
       "array([[ 1,  2,  3,  4,  5],\n",
       "       [ 6,  7,  8,  9, 10],\n",
       "       [11, 12, 13, 14, 15],\n",
       "       [16, 17, 18, 19, 20],\n",
       "       [21, 22, 23, 24, 25]])"
      ]
     },
     "execution_count": 202,
     "metadata": {},
     "output_type": "execute_result"
    }
   ],
   "source": [
    "a = np.arange(1,26).reshape(5,5)\n",
    "a"
   ]
  },
  {
   "cell_type": "code",
   "execution_count": 203,
   "id": "149e49ca-c2ef-4491-bb3f-de9a1ab779de",
   "metadata": {},
   "outputs": [
    {
     "data": {
      "text/plain": [
       "array([[ 1,  2,  3,  4],\n",
       "       [ 5,  6,  7,  8],\n",
       "       [ 9, 10, 11, 12]])"
      ]
     },
     "execution_count": 203,
     "metadata": {},
     "output_type": "execute_result"
    }
   ],
   "source": [
    "a = np.arange(1,13).reshape(3,4)\n",
    "a"
   ]
  },
  {
   "cell_type": "code",
   "execution_count": 214,
   "id": "b94ab63c-f82c-4bb0-a9e5-6faabbf5173c",
   "metadata": {},
   "outputs": [
    {
     "name": "stdout",
     "output_type": "stream",
     "text": [
      "[[ 0  1  2  3]\n",
      " [ 4  5  6  7]\n",
      " [ 8  9 10 11]]\n",
      "[[ 1  2  3  4]\n",
      " [ 5  6  7  8]\n",
      " [ 9 10 11 12]\n",
      " [13 14 15 16]]\n",
      "[[ 1  2  3  4]\n",
      " [ 5  6  7  8]\n",
      " [ 9 10 11 12]\n",
      " [13 14 15 16]\n",
      " [17 18 19 20]]\n",
      "[[10 11 12 13]\n",
      " [14 15 16 17]\n",
      " [18 19 20 21]\n",
      " [22 23 24 25]]\n"
     ]
    }
   ],
   "source": [
    "a = np.arange(0,12).reshape(3,4)\n",
    "print(a)\n",
    "a = np.arange(1,17).reshape(4,4)\n",
    "print(a)\n",
    "a = np.arange(1,21).reshape(5,4)\n",
    "print(a)\n",
    "a = np.arange(10,26).reshape(4,4)\n",
    "print(a)"
   ]
  },
  {
   "cell_type": "markdown",
   "id": "c157453d-399d-483b-a4ab-30244944b6ce",
   "metadata": {},
   "source": [
    "3.3 난수를 생성하는 방법  \n",
    "난수란 랜덤값을 의미한다."
   ]
  },
  {
   "cell_type": "code",
   "execution_count": 215,
   "id": "246a5e35-7af5-452e-a2d5-78f64ef091f9",
   "metadata": {},
   "outputs": [
    {
     "data": {
      "text/plain": [
       "array([ 0.11469214,  1.10852002, -0.55573135,  1.98322848, -1.37890506,\n",
       "        0.71049901,  0.40074496, -1.66607417, -1.03997382, -1.16547317])"
      ]
     },
     "execution_count": 215,
     "metadata": {},
     "output_type": "execute_result"
    }
   ],
   "source": [
    "# 랜덤값 만들기\n",
    "# 표준 정규 분포: 표준 편차가 1인 그래프에서 랜덤값을 생성 (-3 ~ 3)\n",
    "# 랜덤겂 10개 생성\n",
    "arr = np.random.standard_normal(size = 10)\n",
    "arr"
   ]
  },
  {
   "cell_type": "code",
   "execution_count": 216,
   "id": "598e839a-998a-43fd-89c4-973fbb68e8b5",
   "metadata": {},
   "outputs": [
    {
     "data": {
      "text/plain": [
       "array([0.67980901, 0.4869948 , 0.63518836, 0.11248018, 0.37186554,\n",
       "       0.96410252, 0.10243966, 0.96845447, 0.82413058, 0.53246082])"
      ]
     },
     "execution_count": 216,
     "metadata": {},
     "output_type": "execute_result"
    }
   ],
   "source": [
    "# 균일 분포: 범위 0 ~ 1. 모든 값이 같은 확률로 나옴\n",
    "arr = np.random.uniform(size = 10)\n",
    "arr"
   ]
  },
  {
   "cell_type": "code",
   "execution_count": 218,
   "id": "c4626fa5-41ab-47e5-8106-75073bf23e29",
   "metadata": {},
   "outputs": [
    {
     "data": {
      "text/plain": [
       "array([-1.59241765,  0.64979488,  0.63936963,  0.88614425, -1.75619032])"
      ]
     },
     "execution_count": 218,
     "metadata": {},
     "output_type": "execute_result"
    }
   ],
   "source": [
    "arr = np.random.standard_normal(size = 5)\n",
    "arr"
   ]
  },
  {
   "cell_type": "code",
   "execution_count": 219,
   "id": "b0747894-4937-42ae-8549-e648980534b5",
   "metadata": {},
   "outputs": [
    {
     "data": {
      "text/plain": [
       "array([0.95917032, 0.30033905, 0.78608474, 0.1309677 , 0.85804019])"
      ]
     },
     "execution_count": 219,
     "metadata": {},
     "output_type": "execute_result"
    }
   ],
   "source": [
    "arr = np.random.uniform(size = 5)\n",
    "arr"
   ]
  },
  {
   "cell_type": "markdown",
   "id": "2f126d1f-f8e3-46fd-9fa7-4378bc8ae46e",
   "metadata": {},
   "source": [
    "3.4 유니버설 함수  \n",
    "반복문 없이 배열 전체에 계산을 해주는 함수"
   ]
  },
  {
   "cell_type": "code",
   "execution_count": 220,
   "id": "0f874de6-4649-4452-96c7-2511c7648963",
   "metadata": {},
   "outputs": [
    {
     "data": {
      "text/plain": [
       "array([0, 1, 2, 3, 4, 5, 6, 7, 8, 9])"
      ]
     },
     "execution_count": 220,
     "metadata": {},
     "output_type": "execute_result"
    }
   ],
   "source": [
    "# 0 ~ 9 숫자가 담긴 1차원 배열 생성\n",
    "arr = np.arange(10)\n",
    "arr"
   ]
  },
  {
   "cell_type": "code",
   "execution_count": 223,
   "id": "d2015ee1-1bc6-4e6b-8e99-f12a20a769fa",
   "metadata": {},
   "outputs": [
    {
     "data": {
      "text/plain": [
       "array([ 3,  4,  5,  6,  7,  8,  9, 10, 11, 12])"
      ]
     },
     "execution_count": 223,
     "metadata": {},
     "output_type": "execute_result"
    }
   ],
   "source": [
    "# 파이썬의 리스트는 for문을 사용해서 계산해야함\n",
    "# 넘파이의 배열은 for문 없이 계산 가능\n",
    "# 배열 전체에 3 더하기\n",
    "# add\n",
    "np.add(arr, 3)"
   ]
  },
  {
   "cell_type": "code",
   "execution_count": 225,
   "id": "80509c31-48b4-45fd-9403-429087933586",
   "metadata": {},
   "outputs": [
    {
     "data": {
      "text/plain": [
       "array([ 3,  7,  5,  6, 10])"
      ]
     },
     "execution_count": 225,
     "metadata": {},
     "output_type": "execute_result"
    }
   ],
   "source": [
    "a = np.array([1,7,2,4,10])\n",
    "b = np.array([3,4,5,6,7])\n",
    "\n",
    "# 두 배열을 비교하여 더 큰 값 저장\n",
    "np.maximum(a, b)"
   ]
  },
  {
   "cell_type": "markdown",
   "id": "81fed2ae-3e35-498b-9048-02391b936c8c",
   "metadata": {},
   "source": [
    "조건문"
   ]
  },
  {
   "cell_type": "code",
   "execution_count": 226,
   "id": "08b48b70-e95a-4858-b16a-931641acca11",
   "metadata": {},
   "outputs": [],
   "source": [
    "# 배열 두개 만들기\n",
    "a = np.array([1,2,3])\n",
    "b = np.array([10,20,30])\n",
    "# 불리언 배열 만들기(조건)\n",
    "cond = np.array([True, True, False])"
   ]
  },
  {
   "cell_type": "code",
   "execution_count": 229,
   "id": "87930a7e-0ba7-4fe2-a2fd-5791fb976a75",
   "metadata": {},
   "outputs": [
    {
     "data": {
      "text/plain": [
       "array([ 1,  2, 30])"
      ]
     },
     "execution_count": 229,
     "metadata": {},
     "output_type": "execute_result"
    }
   ],
   "source": [
    "# where(조건, 참일떄 값, 거짓일때 값) : 조건문 쓰기\n",
    "# 조건이 참이면 a에서 값을 선택, 거짓이면 b에서 값을 선택\n",
    "# where는 삼항연산자와 비슷\n",
    "\n",
    "result = np.where(cond, a, b)\n",
    "result"
   ]
  },
  {
   "cell_type": "code",
   "execution_count": 232,
   "id": "dc318f79-2e47-4fb2-ba4b-ee7f272c8cf2",
   "metadata": {},
   "outputs": [
    {
     "name": "stdout",
     "output_type": "stream",
     "text": [
      "[False False False  True  True]\n"
     ]
    },
    {
     "data": {
      "text/plain": [
       "array(['x', 'x', 'x', 'o', 'o'], dtype='<U1')"
      ]
     },
     "execution_count": 232,
     "metadata": {},
     "output_type": "execute_result"
    }
   ],
   "source": [
    "# 1차원 배열 생성\n",
    "arr = np.array([-2,-1,0,1,2])\n",
    "\n",
    "# 양수면 'o' 음수면 'x'로 반환\n",
    "# 조건이 참일때 값, 거짓일때 값\n",
    "print(arr>0)\n",
    "np.where(arr > 0, 'o', 'x')\n",
    "\n"
   ]
  },
  {
   "cell_type": "code",
   "execution_count": 237,
   "id": "03a83fa4-49e8-4b12-86c8-c5b47a77ff97",
   "metadata": {},
   "outputs": [
    {
     "name": "stdout",
     "output_type": "stream",
     "text": [
      "['0' '100' '0' '100' '0']\n",
      "[-1  1  1  1 -1]\n",
      "[10  2 30  4 50]\n"
     ]
    }
   ],
   "source": [
    "# 연습문제\n",
    "arr = np.array([5,12,7,20,3])\n",
    "print(np.where(arr>10, '100', '0'))\n",
    "arr = np.array([15,8,22,6,13])\n",
    "print(np.where(arr%2==0, 1, -1))\n",
    "a = np.array([10,20,30,40,50])\n",
    "b = np.array([1,2,3,4,5])\n",
    "cond = np.array([True, False, True, False, True])\n",
    "print(np.where(cond, a, b))"
   ]
  },
  {
   "cell_type": "markdown",
   "id": "ecb4fe43-9e9e-47e8-a892-e30de5b0a1cc",
   "metadata": {},
   "source": [
    "통계를 구할 때 자주 사용하는 함수들  \n",
    "(최대 최소 합계 평균)"
   ]
  },
  {
   "cell_type": "code",
   "execution_count": 239,
   "id": "b0e58d34-5dc4-4382-a5d9-77852396cd7e",
   "metadata": {},
   "outputs": [
    {
     "name": "stdout",
     "output_type": "stream",
     "text": [
      "15 3.0\n"
     ]
    }
   ],
   "source": [
    "# 파이썬의 리스트 생성\n",
    "lis = [1,2,3,4,5]\n",
    "sum = 0\n",
    "for i in lis:\n",
    "    sum += i\n",
    "avg = sum / len(lis)\n",
    "print(sum, avg)\n",
    "    "
   ]
  },
  {
   "cell_type": "code",
   "execution_count": 242,
   "id": "e9440c4e-000b-4599-ad6f-ef5cbf5b5d66",
   "metadata": {},
   "outputs": [
    {
     "name": "stdout",
     "output_type": "stream",
     "text": [
      "15\n",
      "3.0\n",
      "5\n",
      "1\n"
     ]
    }
   ],
   "source": [
    "# 넘파이 배열로 합계와 평균 구하기\n",
    "arr = np.array([1,2,3,4,5])\n",
    "print(np.sum(arr))\n",
    "print(np.mean(arr))\n",
    "# 배열에서 제일 큰 값\n",
    "print(np.max(arr))\n",
    "# 배열에서 제일 작은 값\n",
    "print(np.min(arr))"
   ]
  },
  {
   "cell_type": "code",
   "execution_count": 245,
   "id": "b4a97812-dc03-4a28-8835-1e0085b93baf",
   "metadata": {},
   "outputs": [
    {
     "name": "stdout",
     "output_type": "stream",
     "text": [
      "2000\n",
      "500.0\n",
      "800\n",
      "250\n"
     ]
    }
   ],
   "source": [
    "food = np.array(['김밥','라면','떡볶이','치킨'])\n",
    "kcal = np.array([250,550,400,800])\n",
    "\n",
    "print(np.sum(kcal))\n",
    "print(np.mean(kcal))\n",
    "print(np.max(kcal))\n",
    "print(np.min(kcal))"
   ]
  },
  {
   "cell_type": "markdown",
   "id": "ba945b76-ae4c-4450-8d1d-7baee781c774",
   "metadata": {},
   "source": [
    "행/열 단위로 합계 구하기"
   ]
  },
  {
   "cell_type": "code",
   "execution_count": 273,
   "id": "aeefd03b-f5d3-4121-b443-f701de1bc505",
   "metadata": {},
   "outputs": [
    {
     "name": "stdout",
     "output_type": "stream",
     "text": [
      "[[1 2 3]\n",
      " [4 5 6]\n",
      " [7 8 9]]\n",
      "45\n"
     ]
    },
    {
     "data": {
      "text/plain": [
       "array([[ 1,  3,  6],\n",
       "       [ 4,  9, 15],\n",
       "       [ 7, 15, 24]])"
      ]
     },
     "execution_count": 273,
     "metadata": {},
     "output_type": "execute_result"
    }
   ],
   "source": [
    "arr = np.arange(1,10).reshape(3,3)\n",
    "print(arr)\n",
    "# 배열의 합계 구하기\n",
    "print(arr.sum())\n",
    "# 2차원 배열에서 행 또는 열 방향으로 합 구하기\n",
    "arr.cumsum(axis=0)\n",
    "arr.cumsum(axis=1)"
   ]
  },
  {
   "cell_type": "code",
   "execution_count": 261,
   "id": "afcf4d06-2de0-42d8-af87-f2c538c98824",
   "metadata": {},
   "outputs": [
    {
     "data": {
      "text/plain": [
       "array([ 1,  3,  6, 10, 15])"
      ]
     },
     "execution_count": 261,
     "metadata": {},
     "output_type": "execute_result"
    }
   ],
   "source": [
    "# 누적값 구하기\n",
    "# 합을 구하는 중간 과정을 보여줌|\n",
    "arr = np.array([1,2,3,4,5])\n",
    "arr.cumsum()"
   ]
  },
  {
   "cell_type": "code",
   "execution_count": 271,
   "id": "edb8f019-15e4-4a00-b904-1a54dd2d46d2",
   "metadata": {},
   "outputs": [
    {
     "name": "stdout",
     "output_type": "stream",
     "text": [
      "[[0 1 2]\n",
      " [3 4 5]\n",
      " [6 7 8]]\n",
      "[[ 0  1  2]\n",
      " [ 3  5  7]\n",
      " [ 9 12 15]]\n",
      "[[ 0  1  3]\n",
      " [ 3  7 12]\n",
      " [ 6 13 21]]\n"
     ]
    }
   ],
   "source": [
    "arr = np.array([[0,1,2],[3,4,5],[6,7,8]])\n",
    "print(arr)\n",
    "# 2차원 배열의 누적값 구하기\n",
    "# 기준 설정(세로방향, 위->아래)\n",
    "# 앞에 있는 수를 더한 결과\n",
    "print(arr.cumsum(axis=0))\n",
    "# 가로방향\n",
    "print(arr.cumsum(axis=1))"
   ]
  },
  {
   "cell_type": "code",
   "execution_count": null,
   "id": "1b66dea6-e02f-452b-9a87-79b5d5a2307d",
   "metadata": {},
   "outputs": [],
   "source": []
  },
  {
   "cell_type": "code",
   "execution_count": null,
   "id": "59511c12-49e5-4abc-82b3-e598728035ff",
   "metadata": {},
   "outputs": [],
   "source": []
  },
  {
   "cell_type": "code",
   "execution_count": null,
   "id": "31cf630d-49da-4852-96b4-abf5eceeec1a",
   "metadata": {},
   "outputs": [],
   "source": []
  }
 ],
 "metadata": {
  "kernelspec": {
   "display_name": "Python 3 (ipykernel)",
   "language": "python",
   "name": "python3"
  },
  "language_info": {
   "codemirror_mode": {
    "name": "ipython",
    "version": 3
   },
   "file_extension": ".py",
   "mimetype": "text/x-python",
   "name": "python",
   "nbconvert_exporter": "python",
   "pygments_lexer": "ipython3",
   "version": "3.10.18"
  }
 },
 "nbformat": 4,
 "nbformat_minor": 5
}
