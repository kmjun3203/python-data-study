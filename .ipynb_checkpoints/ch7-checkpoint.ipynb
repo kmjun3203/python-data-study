{
 "cells": [
  {
   "cell_type": "markdown",
   "id": "3c5ea3cf-d45e-4480-a98c-8d6062d8c659",
   "metadata": {},
   "source": [
    "### 7. 데이터 합치기와 재구성"
   ]
  },
  {
   "cell_type": "markdown",
   "id": "bf572ed3-8924-4a1e-b754-a2079bf34705",
   "metadata": {},
   "source": [
    "### 7.1 멀티 인덱스"
   ]
  },
  {
   "cell_type": "code",
   "execution_count": 1,
   "id": "c259f66f-3059-449c-ae3c-68acc9109476",
   "metadata": {},
   "outputs": [],
   "source": [
    "#  모듈 불러오기\n",
    "import numpy as np\n",
    "import pandas as pd"
   ]
  },
  {
   "cell_type": "markdown",
   "id": "1ac34ce1-e122-438d-884b-f0124eef4b9c",
   "metadata": {},
   "source": [
    "Series의 멀티 인덱스"
   ]
  },
  {
   "cell_type": "code",
   "execution_count": 76,
   "id": "f790bfc6-aabc-425f-8b5f-e46a2e4b13dd",
   "metadata": {},
   "outputs": [
    {
     "data": {
      "text/plain": [
       "1학년  a반    85\n",
       "     a반    90\n",
       "     b반    78\n",
       "2학년  a반    92\n",
       "     b반    88\n",
       "     b반    75\n",
       "dtype: int64"
      ]
     },
     "execution_count": 76,
     "metadata": {},
     "output_type": "execute_result"
    }
   ],
   "source": [
    "# 학생 점수를 시리즈로 생성\n",
    "# pd.Series(리스트)\n",
    "# pd.Series(리스트, [인덱스])\n",
    "# 인덱스는 단일x 멀티o\n",
    "# 학년-반\n",
    "# 첫번째 인덱스: 학년(1,2)\n",
    "# 두번째 인덱스: 반(A,B)\n",
    "s = pd.Series([ 85, 90, 78, 92, 88, 75 ], \n",
    "             index = [ ['1학년', '1학년', '1학년', '2학년', '2학년', '2학년'],\n",
    "                       ['a반', 'a반', 'b반', 'a반', 'b반', 'b반'] ]\n",
    "             )\n",
    "s"
   ]
  },
  {
   "cell_type": "code",
   "execution_count": 11,
   "id": "5f4f0a0b-e13b-4a07-bc7d-9c68ba380aac",
   "metadata": {},
   "outputs": [
    {
     "data": {
      "text/plain": [
       "1학년  a반    85\n",
       "     a반    90\n",
       "     b반    78\n",
       "2학년  a반    92\n",
       "     b반    88\n",
       "     b반    75\n",
       "dtype: int64"
      ]
     },
     "execution_count": 11,
     "metadata": {},
     "output_type": "execute_result"
    }
   ],
   "source": [
    "s"
   ]
  },
  {
   "cell_type": "code",
   "execution_count": 17,
   "id": "4f581a79-9ee7-48ab-b64d-6696dad761c9",
   "metadata": {},
   "outputs": [
    {
     "data": {
      "text/plain": [
       "1학년  a반    85\n",
       "     a반    90\n",
       "     b반    78\n",
       "dtype: int64"
      ]
     },
     "execution_count": 17,
     "metadata": {},
     "output_type": "execute_result"
    }
   ],
   "source": [
    "# 시리즈에서 1학년만 조회\n",
    "s['1학년']\n",
    "# 1학년 a반만 조회\n",
    "s.index\n",
    "s.loc[('1학년','a반')]\n",
    "# 1학년의 a반과 b반 모두 가지고 오기 (여러개 선택)\n",
    "s.loc[ ('1학년', [ 'a반', 'b반' ] ) ]\n"
   ]
  },
  {
   "cell_type": "code",
   "execution_count": 21,
   "id": "c1b0ec07-776f-4142-8b58-24d0f78a9111",
   "metadata": {},
   "outputs": [
    {
     "data": {
      "text/plain": [
       "서울  강남점     120\n",
       "    강북점     100\n",
       "부산  해운대점     90\n",
       "    서면점      80\n",
       "dtype: int64"
      ]
     },
     "execution_count": 21,
     "metadata": {},
     "output_type": "execute_result"
    }
   ],
   "source": [
    "s = pd.Series([120, 100, 90, 80],\n",
    "              index = [['서울','서울','부산','부산'], \n",
    "                       ['강남점','강북점','해운대점','서면점']])\n",
    "s"
   ]
  },
  {
   "cell_type": "code",
   "execution_count": 28,
   "id": "316efd79-6277-42bc-ab17-7b030e7c2ca9",
   "metadata": {},
   "outputs": [
    {
     "data": {
      "text/plain": [
       "np.int64(90)"
      ]
     },
     "execution_count": 28,
     "metadata": {},
     "output_type": "execute_result"
    }
   ],
   "source": [
    "# 시리즈에서 값 꺼내기\n",
    "# 서울 전체 매출을 조회\n",
    "s['서울']\n",
    "# 부산 해운대점 매출을 조회\n",
    "s.loc[('부산','해운대점')]"
   ]
  },
  {
   "cell_type": "markdown",
   "id": "04b62a72-89f3-4c83-b9d2-bbba4b92516f",
   "metadata": {},
   "source": [
    "데이터 프레임의 멀티 인덱스"
   ]
  },
  {
   "cell_type": "code",
   "execution_count": 31,
   "id": "9bdb721f-c526-4f15-b275-46d88f4435a4",
   "metadata": {},
   "outputs": [
    {
     "data": {
      "text/html": [
       "<div>\n",
       "<style scoped>\n",
       "    .dataframe tbody tr th:only-of-type {\n",
       "        vertical-align: middle;\n",
       "    }\n",
       "\n",
       "    .dataframe tbody tr th {\n",
       "        vertical-align: top;\n",
       "    }\n",
       "\n",
       "    .dataframe thead th {\n",
       "        text-align: right;\n",
       "    }\n",
       "</style>\n",
       "<table border=\"1\" class=\"dataframe\">\n",
       "  <thead>\n",
       "    <tr style=\"text-align: right;\">\n",
       "      <th></th>\n",
       "      <th></th>\n",
       "      <th>제품1</th>\n",
       "      <th>제품2</th>\n",
       "    </tr>\n",
       "  </thead>\n",
       "  <tbody>\n",
       "    <tr>\n",
       "      <th rowspan=\"2\" valign=\"top\">2020년</th>\n",
       "      <th>구월점</th>\n",
       "      <td>50</td>\n",
       "      <td>60</td>\n",
       "    </tr>\n",
       "    <tr>\n",
       "      <th>부평점</th>\n",
       "      <td>70</td>\n",
       "      <td>80</td>\n",
       "    </tr>\n",
       "    <tr>\n",
       "      <th rowspan=\"2\" valign=\"top\">2021년</th>\n",
       "      <th>구월점</th>\n",
       "      <td>100</td>\n",
       "      <td>110</td>\n",
       "    </tr>\n",
       "    <tr>\n",
       "      <th>부평점</th>\n",
       "      <td>120</td>\n",
       "      <td>130</td>\n",
       "    </tr>\n",
       "  </tbody>\n",
       "</table>\n",
       "</div>"
      ],
      "text/plain": [
       "           제품1  제품2\n",
       "2020년 구월점   50   60\n",
       "      부평점   70   80\n",
       "2021년 구월점  100  110\n",
       "      부평점  120  130"
      ]
     },
     "execution_count": 31,
     "metadata": {},
     "output_type": "execute_result"
    }
   ],
   "source": [
    "# Series: 한줄짜리 데이터\n",
    "# DataFrame: 표 모양 데이터\n",
    "\n",
    "# 상품 판매 데이터를 데이터프레임으로 생성\n",
    "# pd.DataFrame(2차원 배열 데이터)\n",
    "# pd.DataFrame(데이터, [인덱스], [컬럼])\n",
    "# 데이터: 4행 2열의 배열. 판매데이터 (판매량)\n",
    "# 행 인덱스: 멀티(연도-지점)\n",
    "# 열 컬럼: 제품\n",
    "df = pd.DataFrame( [ [50, 60], [70, 80], [100, 110], [120, 130] ], \n",
    "                   index = [ ['2020년', '2020년', '2021년', '2021년'], \n",
    "                             ['구월점', '부평점', '구월점', '부평점'] ], \n",
    "                   columns = ['제품1', '제품2'] )\n",
    "df"
   ]
  },
  {
   "cell_type": "markdown",
   "id": "186c1cbc-d187-4a31-b63d-f427ba434f12",
   "metadata": {},
   "source": [
    "데이터프레임에서 데이터 꺼내기"
   ]
  },
  {
   "cell_type": "code",
   "execution_count": 35,
   "id": "cd5fc517-faee-462e-8dad-c43390ee1a7f",
   "metadata": {},
   "outputs": [
    {
     "name": "stdout",
     "output_type": "stream",
     "text": [
      "MultiIndex([('2020년', '구월점'),\n",
      "            ('2020년', '부평점'),\n",
      "            ('2021년', '구월점'),\n",
      "            ('2021년', '부평점')],\n",
      "           )\n",
      "Index(['제품1', '제품2'], dtype='object')\n"
     ]
    },
    {
     "data": {
      "text/html": [
       "<div>\n",
       "<style scoped>\n",
       "    .dataframe tbody tr th:only-of-type {\n",
       "        vertical-align: middle;\n",
       "    }\n",
       "\n",
       "    .dataframe tbody tr th {\n",
       "        vertical-align: top;\n",
       "    }\n",
       "\n",
       "    .dataframe thead th {\n",
       "        text-align: right;\n",
       "    }\n",
       "</style>\n",
       "<table border=\"1\" class=\"dataframe\">\n",
       "  <thead>\n",
       "    <tr style=\"text-align: right;\">\n",
       "      <th></th>\n",
       "      <th>제품1</th>\n",
       "      <th>제품2</th>\n",
       "    </tr>\n",
       "  </thead>\n",
       "  <tbody>\n",
       "    <tr>\n",
       "      <th>구월점</th>\n",
       "      <td>50</td>\n",
       "      <td>60</td>\n",
       "    </tr>\n",
       "    <tr>\n",
       "      <th>부평점</th>\n",
       "      <td>70</td>\n",
       "      <td>80</td>\n",
       "    </tr>\n",
       "  </tbody>\n",
       "</table>\n",
       "</div>"
      ],
      "text/plain": [
       "     제품1  제품2\n",
       "구월점   50   60\n",
       "부평점   70   80"
      ]
     },
     "execution_count": 35,
     "metadata": {},
     "output_type": "execute_result"
    }
   ],
   "source": [
    "# 2020년도 전체 판매량 조회\n",
    "print(df.index)\n",
    "print(df.columns)\n",
    "# df.loc[행, 열]\n",
    "df.loc['2020년']"
   ]
  },
  {
   "cell_type": "code",
   "execution_count": 43,
   "id": "cd8b22f7-0ff0-4eaf-8c72-68cd9c009615",
   "metadata": {},
   "outputs": [
    {
     "name": "stdout",
     "output_type": "stream",
     "text": [
      "제품1    50\n",
      "제품2    60\n",
      "Name: (2020년, 구월점), dtype: int64\n",
      "제품1    120\n",
      "제품2    130\n",
      "Name: (2021년, 부평점), dtype: int64\n"
     ]
    }
   ],
   "source": [
    "# 2020년 구월점 판매량만 조회\n",
    "print(df.loc[('2020년','구월점')])\n",
    "# 2021년 부평점의 제품2 판매량만 조회\n",
    "print(df.loc[('2021년','부평점')])"
   ]
  },
  {
   "cell_type": "markdown",
   "id": "4e2d37c0-e6f8-419c-97d8-1f7283d8e2e0",
   "metadata": {},
   "source": [
    "#### 7.2 데이터 합치기"
   ]
  },
  {
   "cell_type": "markdown",
   "id": "1e132a6d-f785-4064-9f2e-704e4bd2b6b3",
   "metadata": {},
   "source": [
    "merge\n",
    "- 두개의 데이터프레임을 하나로 합치는 함수\n",
    "- 기준 컬럼이 맞으면 해결"
   ]
  },
  {
   "cell_type": "code",
   "execution_count": 46,
   "id": "99eefb97-5df4-4889-ac0c-95036457f3d3",
   "metadata": {},
   "outputs": [],
   "source": [
    "# 학색 데이터를 담아서 데이터프레임 생성\n",
    "# pd.DataFrame(2차원배열)\n",
    "# pd.DataFrame(dic)\n",
    "df1 = pd.DataFrame( { '학번' : [ 1, 2, 3 ], '이름' : [ '철수', '영희', '민수' ] } )\n",
    "# 시럼 점수 데이터를 담아서 데이터프레임 생성\n",
    "df2 = pd.DataFrame( { '학번' : [ 1, 2, 4] , '점수' : [ 90, 85, 70 ] } )"
   ]
  },
  {
   "cell_type": "code",
   "execution_count": 47,
   "id": "ebdedf83-32b7-421a-a14e-dd12a4135cc0",
   "metadata": {},
   "outputs": [
    {
     "data": {
      "text/html": [
       "<div>\n",
       "<style scoped>\n",
       "    .dataframe tbody tr th:only-of-type {\n",
       "        vertical-align: middle;\n",
       "    }\n",
       "\n",
       "    .dataframe tbody tr th {\n",
       "        vertical-align: top;\n",
       "    }\n",
       "\n",
       "    .dataframe thead th {\n",
       "        text-align: right;\n",
       "    }\n",
       "</style>\n",
       "<table border=\"1\" class=\"dataframe\">\n",
       "  <thead>\n",
       "    <tr style=\"text-align: right;\">\n",
       "      <th></th>\n",
       "      <th>학번</th>\n",
       "      <th>이름</th>\n",
       "    </tr>\n",
       "  </thead>\n",
       "  <tbody>\n",
       "    <tr>\n",
       "      <th>0</th>\n",
       "      <td>1</td>\n",
       "      <td>철수</td>\n",
       "    </tr>\n",
       "    <tr>\n",
       "      <th>1</th>\n",
       "      <td>2</td>\n",
       "      <td>영희</td>\n",
       "    </tr>\n",
       "    <tr>\n",
       "      <th>2</th>\n",
       "      <td>3</td>\n",
       "      <td>민수</td>\n",
       "    </tr>\n",
       "  </tbody>\n",
       "</table>\n",
       "</div>"
      ],
      "text/plain": [
       "   학번  이름\n",
       "0   1  철수\n",
       "1   2  영희\n",
       "2   3  민수"
      ]
     },
     "execution_count": 47,
     "metadata": {},
     "output_type": "execute_result"
    }
   ],
   "source": [
    "df1"
   ]
  },
  {
   "cell_type": "code",
   "execution_count": 48,
   "id": "70cee1e3-59ad-49c9-84a1-ec0d386dac0f",
   "metadata": {},
   "outputs": [
    {
     "data": {
      "text/html": [
       "<div>\n",
       "<style scoped>\n",
       "    .dataframe tbody tr th:only-of-type {\n",
       "        vertical-align: middle;\n",
       "    }\n",
       "\n",
       "    .dataframe tbody tr th {\n",
       "        vertical-align: top;\n",
       "    }\n",
       "\n",
       "    .dataframe thead th {\n",
       "        text-align: right;\n",
       "    }\n",
       "</style>\n",
       "<table border=\"1\" class=\"dataframe\">\n",
       "  <thead>\n",
       "    <tr style=\"text-align: right;\">\n",
       "      <th></th>\n",
       "      <th>학번</th>\n",
       "      <th>점수</th>\n",
       "    </tr>\n",
       "  </thead>\n",
       "  <tbody>\n",
       "    <tr>\n",
       "      <th>0</th>\n",
       "      <td>1</td>\n",
       "      <td>90</td>\n",
       "    </tr>\n",
       "    <tr>\n",
       "      <th>1</th>\n",
       "      <td>2</td>\n",
       "      <td>85</td>\n",
       "    </tr>\n",
       "    <tr>\n",
       "      <th>2</th>\n",
       "      <td>4</td>\n",
       "      <td>70</td>\n",
       "    </tr>\n",
       "  </tbody>\n",
       "</table>\n",
       "</div>"
      ],
      "text/plain": [
       "   학번  점수\n",
       "0   1  90\n",
       "1   2  85\n",
       "2   4  70"
      ]
     },
     "execution_count": 48,
     "metadata": {},
     "output_type": "execute_result"
    }
   ],
   "source": [
    "df2"
   ]
  },
  {
   "cell_type": "markdown",
   "id": "4ca18f5e-98e8-4732-a226-a3fdd9f2439c",
   "metadata": {},
   "source": [
    "merge의 종료\n",
    "- inner join: 양쪽 데이터에서 공통된 부분만 가지고옴\n",
    "- left join: 왼쪽 데이터는 모두 가지고 오고, 오른쪽은 겹치는 부분만\n",
    "- right join: 오른쪽 데이터는 모두 가지고 오고, 오른쪽은 겹치는 부분만\n",
    "- outer join: 양쪽 데이터를 모두 가지고옴"
   ]
  },
  {
   "cell_type": "code",
   "execution_count": 51,
   "id": "efd378ba-030c-44dd-ba74-f9d84990ebbf",
   "metadata": {},
   "outputs": [
    {
     "data": {
      "text/html": [
       "<div>\n",
       "<style scoped>\n",
       "    .dataframe tbody tr th:only-of-type {\n",
       "        vertical-align: middle;\n",
       "    }\n",
       "\n",
       "    .dataframe tbody tr th {\n",
       "        vertical-align: top;\n",
       "    }\n",
       "\n",
       "    .dataframe thead th {\n",
       "        text-align: right;\n",
       "    }\n",
       "</style>\n",
       "<table border=\"1\" class=\"dataframe\">\n",
       "  <thead>\n",
       "    <tr style=\"text-align: right;\">\n",
       "      <th></th>\n",
       "      <th>학번</th>\n",
       "      <th>이름</th>\n",
       "      <th>점수</th>\n",
       "    </tr>\n",
       "  </thead>\n",
       "  <tbody>\n",
       "    <tr>\n",
       "      <th>0</th>\n",
       "      <td>1</td>\n",
       "      <td>철수</td>\n",
       "      <td>90</td>\n",
       "    </tr>\n",
       "    <tr>\n",
       "      <th>1</th>\n",
       "      <td>2</td>\n",
       "      <td>영희</td>\n",
       "      <td>85</td>\n",
       "    </tr>\n",
       "  </tbody>\n",
       "</table>\n",
       "</div>"
      ],
      "text/plain": [
       "   학번  이름  점수\n",
       "0   1  철수  90\n",
       "1   2  영희  85"
      ]
     },
     "execution_count": 51,
     "metadata": {},
     "output_type": "execute_result"
    }
   ],
   "source": [
    "# 학생정보와 시험점수 합치기\n",
    "# pd.merge(데이터1, 데이터2, 공통컬럼)\n",
    "# inner join (기본값)\n",
    "pd.merge(df1, df2, on='학번')"
   ]
  },
  {
   "cell_type": "code",
   "execution_count": 55,
   "id": "ac417c4c-4849-4a2f-a1ee-89ed4350c385",
   "metadata": {},
   "outputs": [
    {
     "data": {
      "text/html": [
       "<div>\n",
       "<style scoped>\n",
       "    .dataframe tbody tr th:only-of-type {\n",
       "        vertical-align: middle;\n",
       "    }\n",
       "\n",
       "    .dataframe tbody tr th {\n",
       "        vertical-align: top;\n",
       "    }\n",
       "\n",
       "    .dataframe thead th {\n",
       "        text-align: right;\n",
       "    }\n",
       "</style>\n",
       "<table border=\"1\" class=\"dataframe\">\n",
       "  <thead>\n",
       "    <tr style=\"text-align: right;\">\n",
       "      <th></th>\n",
       "      <th>학번</th>\n",
       "      <th>이름</th>\n",
       "      <th>점수</th>\n",
       "    </tr>\n",
       "  </thead>\n",
       "  <tbody>\n",
       "    <tr>\n",
       "      <th>0</th>\n",
       "      <td>1</td>\n",
       "      <td>철수</td>\n",
       "      <td>90.0</td>\n",
       "    </tr>\n",
       "    <tr>\n",
       "      <th>1</th>\n",
       "      <td>2</td>\n",
       "      <td>영희</td>\n",
       "      <td>85.0</td>\n",
       "    </tr>\n",
       "    <tr>\n",
       "      <th>2</th>\n",
       "      <td>3</td>\n",
       "      <td>민수</td>\n",
       "      <td>NaN</td>\n",
       "    </tr>\n",
       "  </tbody>\n",
       "</table>\n",
       "</div>"
      ],
      "text/plain": [
       "   학번  이름    점수\n",
       "0   1  철수  90.0\n",
       "1   2  영희  85.0\n",
       "2   3  민수   NaN"
      ]
     },
     "execution_count": 55,
     "metadata": {},
     "output_type": "execute_result"
    }
   ],
   "source": [
    "# # pd.merge(데이터1, 데이터2, 공통컬럼, [join방식])\n",
    "# left join\n",
    "pd.merge(df1, df2, on = '학번', how = 'left')"
   ]
  },
  {
   "cell_type": "code",
   "execution_count": 56,
   "id": "c44cb30f-19e7-4f09-b7b7-82600da563d5",
   "metadata": {},
   "outputs": [
    {
     "data": {
      "text/html": [
       "<div>\n",
       "<style scoped>\n",
       "    .dataframe tbody tr th:only-of-type {\n",
       "        vertical-align: middle;\n",
       "    }\n",
       "\n",
       "    .dataframe tbody tr th {\n",
       "        vertical-align: top;\n",
       "    }\n",
       "\n",
       "    .dataframe thead th {\n",
       "        text-align: right;\n",
       "    }\n",
       "</style>\n",
       "<table border=\"1\" class=\"dataframe\">\n",
       "  <thead>\n",
       "    <tr style=\"text-align: right;\">\n",
       "      <th></th>\n",
       "      <th>학번</th>\n",
       "      <th>이름</th>\n",
       "      <th>점수</th>\n",
       "    </tr>\n",
       "  </thead>\n",
       "  <tbody>\n",
       "    <tr>\n",
       "      <th>0</th>\n",
       "      <td>1</td>\n",
       "      <td>철수</td>\n",
       "      <td>90</td>\n",
       "    </tr>\n",
       "    <tr>\n",
       "      <th>1</th>\n",
       "      <td>2</td>\n",
       "      <td>영희</td>\n",
       "      <td>85</td>\n",
       "    </tr>\n",
       "    <tr>\n",
       "      <th>2</th>\n",
       "      <td>4</td>\n",
       "      <td>NaN</td>\n",
       "      <td>70</td>\n",
       "    </tr>\n",
       "  </tbody>\n",
       "</table>\n",
       "</div>"
      ],
      "text/plain": [
       "   학번   이름  점수\n",
       "0   1   철수  90\n",
       "1   2   영희  85\n",
       "2   4  NaN  70"
      ]
     },
     "execution_count": 56,
     "metadata": {},
     "output_type": "execute_result"
    }
   ],
   "source": [
    "# right join\n",
    "pd.merge(df1, df2, on = '학번', how = 'right')"
   ]
  },
  {
   "cell_type": "code",
   "execution_count": 57,
   "id": "90dc9310-9f5e-4943-a1ee-0f83b74d3a10",
   "metadata": {},
   "outputs": [
    {
     "data": {
      "text/html": [
       "<div>\n",
       "<style scoped>\n",
       "    .dataframe tbody tr th:only-of-type {\n",
       "        vertical-align: middle;\n",
       "    }\n",
       "\n",
       "    .dataframe tbody tr th {\n",
       "        vertical-align: top;\n",
       "    }\n",
       "\n",
       "    .dataframe thead th {\n",
       "        text-align: right;\n",
       "    }\n",
       "</style>\n",
       "<table border=\"1\" class=\"dataframe\">\n",
       "  <thead>\n",
       "    <tr style=\"text-align: right;\">\n",
       "      <th></th>\n",
       "      <th>학번</th>\n",
       "      <th>이름</th>\n",
       "      <th>점수</th>\n",
       "    </tr>\n",
       "  </thead>\n",
       "  <tbody>\n",
       "    <tr>\n",
       "      <th>0</th>\n",
       "      <td>1</td>\n",
       "      <td>철수</td>\n",
       "      <td>90.0</td>\n",
       "    </tr>\n",
       "    <tr>\n",
       "      <th>1</th>\n",
       "      <td>2</td>\n",
       "      <td>영희</td>\n",
       "      <td>85.0</td>\n",
       "    </tr>\n",
       "    <tr>\n",
       "      <th>2</th>\n",
       "      <td>3</td>\n",
       "      <td>민수</td>\n",
       "      <td>NaN</td>\n",
       "    </tr>\n",
       "    <tr>\n",
       "      <th>3</th>\n",
       "      <td>4</td>\n",
       "      <td>NaN</td>\n",
       "      <td>70.0</td>\n",
       "    </tr>\n",
       "  </tbody>\n",
       "</table>\n",
       "</div>"
      ],
      "text/plain": [
       "   학번   이름    점수\n",
       "0   1   철수  90.0\n",
       "1   2   영희  85.0\n",
       "2   3   민수   NaN\n",
       "3   4  NaN  70.0"
      ]
     },
     "execution_count": 57,
     "metadata": {},
     "output_type": "execute_result"
    }
   ],
   "source": [
    "# outer join\n",
    "pd.merge(df1, df2, on = '학번', how = 'outer')"
   ]
  },
  {
   "cell_type": "markdown",
   "id": "ed03fb99-b5e4-4ca8-9a30-bffb1efd1b48",
   "metadata": {},
   "source": [
    "concat\n",
    "- 여러개의 데이터를 이어붙이는 함수\n",
    "- 조건없이 그냥 이어붙임\n",
    "- 방향: 위아래 / 옆으로"
   ]
  },
  {
   "cell_type": "code",
   "execution_count": 58,
   "id": "17f683c0-4d63-425a-83dc-a9b70702b51e",
   "metadata": {},
   "outputs": [],
   "source": [
    "# 학색 데이터를 담아서 데이터프레임 생성\n",
    "df1 = pd.DataFrame( { '학번' : [ 1, 2, 3 ], '이름' : [ '철수', '영희', '민수' ] } )\n",
    "# 시럼 점수 데이터를 담아서 데이터프레임 생성\n",
    "df2 = pd.DataFrame( { '학번' : [ 1, 2, 4] , '점수' : [ 90, 85, 70 ] } )"
   ]
  },
  {
   "cell_type": "code",
   "execution_count": 59,
   "id": "3735f7aa-0a0f-43f5-9166-30ae23d32c66",
   "metadata": {},
   "outputs": [
    {
     "data": {
      "text/html": [
       "<div>\n",
       "<style scoped>\n",
       "    .dataframe tbody tr th:only-of-type {\n",
       "        vertical-align: middle;\n",
       "    }\n",
       "\n",
       "    .dataframe tbody tr th {\n",
       "        vertical-align: top;\n",
       "    }\n",
       "\n",
       "    .dataframe thead th {\n",
       "        text-align: right;\n",
       "    }\n",
       "</style>\n",
       "<table border=\"1\" class=\"dataframe\">\n",
       "  <thead>\n",
       "    <tr style=\"text-align: right;\">\n",
       "      <th></th>\n",
       "      <th>학번</th>\n",
       "      <th>이름</th>\n",
       "    </tr>\n",
       "  </thead>\n",
       "  <tbody>\n",
       "    <tr>\n",
       "      <th>0</th>\n",
       "      <td>1</td>\n",
       "      <td>철수</td>\n",
       "    </tr>\n",
       "    <tr>\n",
       "      <th>1</th>\n",
       "      <td>2</td>\n",
       "      <td>영희</td>\n",
       "    </tr>\n",
       "    <tr>\n",
       "      <th>2</th>\n",
       "      <td>3</td>\n",
       "      <td>민수</td>\n",
       "    </tr>\n",
       "  </tbody>\n",
       "</table>\n",
       "</div>"
      ],
      "text/plain": [
       "   학번  이름\n",
       "0   1  철수\n",
       "1   2  영희\n",
       "2   3  민수"
      ]
     },
     "execution_count": 59,
     "metadata": {},
     "output_type": "execute_result"
    }
   ],
   "source": [
    "df1"
   ]
  },
  {
   "cell_type": "code",
   "execution_count": 60,
   "id": "868f0ca5-c00b-4934-ac73-06f9d90afb18",
   "metadata": {},
   "outputs": [
    {
     "data": {
      "text/html": [
       "<div>\n",
       "<style scoped>\n",
       "    .dataframe tbody tr th:only-of-type {\n",
       "        vertical-align: middle;\n",
       "    }\n",
       "\n",
       "    .dataframe tbody tr th {\n",
       "        vertical-align: top;\n",
       "    }\n",
       "\n",
       "    .dataframe thead th {\n",
       "        text-align: right;\n",
       "    }\n",
       "</style>\n",
       "<table border=\"1\" class=\"dataframe\">\n",
       "  <thead>\n",
       "    <tr style=\"text-align: right;\">\n",
       "      <th></th>\n",
       "      <th>학번</th>\n",
       "      <th>점수</th>\n",
       "    </tr>\n",
       "  </thead>\n",
       "  <tbody>\n",
       "    <tr>\n",
       "      <th>0</th>\n",
       "      <td>1</td>\n",
       "      <td>90</td>\n",
       "    </tr>\n",
       "    <tr>\n",
       "      <th>1</th>\n",
       "      <td>2</td>\n",
       "      <td>85</td>\n",
       "    </tr>\n",
       "    <tr>\n",
       "      <th>2</th>\n",
       "      <td>4</td>\n",
       "      <td>70</td>\n",
       "    </tr>\n",
       "  </tbody>\n",
       "</table>\n",
       "</div>"
      ],
      "text/plain": [
       "   학번  점수\n",
       "0   1  90\n",
       "1   2  85\n",
       "2   4  70"
      ]
     },
     "execution_count": 60,
     "metadata": {},
     "output_type": "execute_result"
    }
   ],
   "source": [
    "df2"
   ]
  },
  {
   "cell_type": "code",
   "execution_count": 66,
   "id": "4f8499a6-a42f-4a25-900d-62fdbc34835d",
   "metadata": {},
   "outputs": [
    {
     "data": {
      "text/html": [
       "<div>\n",
       "<style scoped>\n",
       "    .dataframe tbody tr th:only-of-type {\n",
       "        vertical-align: middle;\n",
       "    }\n",
       "\n",
       "    .dataframe tbody tr th {\n",
       "        vertical-align: top;\n",
       "    }\n",
       "\n",
       "    .dataframe thead th {\n",
       "        text-align: right;\n",
       "    }\n",
       "</style>\n",
       "<table border=\"1\" class=\"dataframe\">\n",
       "  <thead>\n",
       "    <tr style=\"text-align: right;\">\n",
       "      <th></th>\n",
       "      <th>학번</th>\n",
       "      <th>이름</th>\n",
       "      <th>점수</th>\n",
       "    </tr>\n",
       "  </thead>\n",
       "  <tbody>\n",
       "    <tr>\n",
       "      <th>0</th>\n",
       "      <td>1</td>\n",
       "      <td>철수</td>\n",
       "      <td>NaN</td>\n",
       "    </tr>\n",
       "    <tr>\n",
       "      <th>1</th>\n",
       "      <td>2</td>\n",
       "      <td>영희</td>\n",
       "      <td>NaN</td>\n",
       "    </tr>\n",
       "    <tr>\n",
       "      <th>2</th>\n",
       "      <td>3</td>\n",
       "      <td>민수</td>\n",
       "      <td>NaN</td>\n",
       "    </tr>\n",
       "    <tr>\n",
       "      <th>0</th>\n",
       "      <td>1</td>\n",
       "      <td>NaN</td>\n",
       "      <td>90.0</td>\n",
       "    </tr>\n",
       "    <tr>\n",
       "      <th>1</th>\n",
       "      <td>2</td>\n",
       "      <td>NaN</td>\n",
       "      <td>85.0</td>\n",
       "    </tr>\n",
       "    <tr>\n",
       "      <th>2</th>\n",
       "      <td>4</td>\n",
       "      <td>NaN</td>\n",
       "      <td>70.0</td>\n",
       "    </tr>\n",
       "  </tbody>\n",
       "</table>\n",
       "</div>"
      ],
      "text/plain": [
       "   학번   이름    점수\n",
       "0   1   철수   NaN\n",
       "1   2   영희   NaN\n",
       "2   3   민수   NaN\n",
       "0   1  NaN  90.0\n",
       "1   2  NaN  85.0\n",
       "2   4  NaN  70.0"
      ]
     },
     "execution_count": 66,
     "metadata": {},
     "output_type": "execute_result"
    }
   ],
   "source": [
    "# 두 데이터 이어 붙이기\n",
    "# 데이터가 2개 이상이 될 수 있기 때문에, 리스트로 입력\n",
    "# pd.concat(리스트)\n",
    "# 방향: 기본값 axis = 0 (y축 위아래)\n",
    "pd.concat( [ df1, df2 ] )"
   ]
  },
  {
   "cell_type": "code",
   "execution_count": 68,
   "id": "b6292531-3b93-4d72-86cc-d32cd8174cb4",
   "metadata": {},
   "outputs": [
    {
     "data": {
      "text/html": [
       "<div>\n",
       "<style scoped>\n",
       "    .dataframe tbody tr th:only-of-type {\n",
       "        vertical-align: middle;\n",
       "    }\n",
       "\n",
       "    .dataframe tbody tr th {\n",
       "        vertical-align: top;\n",
       "    }\n",
       "\n",
       "    .dataframe thead th {\n",
       "        text-align: right;\n",
       "    }\n",
       "</style>\n",
       "<table border=\"1\" class=\"dataframe\">\n",
       "  <thead>\n",
       "    <tr style=\"text-align: right;\">\n",
       "      <th></th>\n",
       "      <th>학번</th>\n",
       "      <th>이름</th>\n",
       "      <th>학번</th>\n",
       "      <th>점수</th>\n",
       "    </tr>\n",
       "  </thead>\n",
       "  <tbody>\n",
       "    <tr>\n",
       "      <th>0</th>\n",
       "      <td>1</td>\n",
       "      <td>철수</td>\n",
       "      <td>1</td>\n",
       "      <td>90</td>\n",
       "    </tr>\n",
       "    <tr>\n",
       "      <th>1</th>\n",
       "      <td>2</td>\n",
       "      <td>영희</td>\n",
       "      <td>2</td>\n",
       "      <td>85</td>\n",
       "    </tr>\n",
       "    <tr>\n",
       "      <th>2</th>\n",
       "      <td>3</td>\n",
       "      <td>민수</td>\n",
       "      <td>4</td>\n",
       "      <td>70</td>\n",
       "    </tr>\n",
       "  </tbody>\n",
       "</table>\n",
       "</div>"
      ],
      "text/plain": [
       "   학번  이름  학번  점수\n",
       "0   1  철수   1  90\n",
       "1   2  영희   2  85\n",
       "2   3  민수   4  70"
      ]
     },
     "execution_count": 68,
     "metadata": {},
     "output_type": "execute_result"
    }
   ],
   "source": [
    "# pd.concat( 데이터 리스트, [방향] )\n",
    "# axis = 1 (x축 옆으로)\n",
    "pd.concat( [ df1, df2 ], axis = 1 )"
   ]
  },
  {
   "cell_type": "code",
   "execution_count": 70,
   "id": "5b7649c1-6f6f-4e8e-bf61-648bdc478ac9",
   "metadata": {},
   "outputs": [
    {
     "data": {
      "text/html": [
       "<div>\n",
       "<style scoped>\n",
       "    .dataframe tbody tr th:only-of-type {\n",
       "        vertical-align: middle;\n",
       "    }\n",
       "\n",
       "    .dataframe tbody tr th {\n",
       "        vertical-align: top;\n",
       "    }\n",
       "\n",
       "    .dataframe thead th {\n",
       "        text-align: right;\n",
       "    }\n",
       "</style>\n",
       "<table border=\"1\" class=\"dataframe\">\n",
       "  <thead>\n",
       "    <tr style=\"text-align: right;\">\n",
       "      <th></th>\n",
       "      <th>학번</th>\n",
       "      <th>이름</th>\n",
       "      <th>점수</th>\n",
       "    </tr>\n",
       "  </thead>\n",
       "  <tbody>\n",
       "    <tr>\n",
       "      <th>0</th>\n",
       "      <td>1</td>\n",
       "      <td>철수</td>\n",
       "      <td>NaN</td>\n",
       "    </tr>\n",
       "    <tr>\n",
       "      <th>1</th>\n",
       "      <td>2</td>\n",
       "      <td>영희</td>\n",
       "      <td>NaN</td>\n",
       "    </tr>\n",
       "    <tr>\n",
       "      <th>2</th>\n",
       "      <td>3</td>\n",
       "      <td>민수</td>\n",
       "      <td>NaN</td>\n",
       "    </tr>\n",
       "    <tr>\n",
       "      <th>3</th>\n",
       "      <td>1</td>\n",
       "      <td>NaN</td>\n",
       "      <td>90.0</td>\n",
       "    </tr>\n",
       "    <tr>\n",
       "      <th>4</th>\n",
       "      <td>2</td>\n",
       "      <td>NaN</td>\n",
       "      <td>85.0</td>\n",
       "    </tr>\n",
       "    <tr>\n",
       "      <th>5</th>\n",
       "      <td>4</td>\n",
       "      <td>NaN</td>\n",
       "      <td>70.0</td>\n",
       "    </tr>\n",
       "  </tbody>\n",
       "</table>\n",
       "</div>"
      ],
      "text/plain": [
       "   학번   이름    점수\n",
       "0   1   철수   NaN\n",
       "1   2   영희   NaN\n",
       "2   3   민수   NaN\n",
       "3   1  NaN  90.0\n",
       "4   2  NaN  85.0\n",
       "5   4  NaN  70.0"
      ]
     },
     "execution_count": 70,
     "metadata": {},
     "output_type": "execute_result"
    }
   ],
   "source": [
    "# concat 후에 인덱스 재설정\n",
    "# pd.concat(리스트, [인덱스 옵션])\n",
    "# ignore_index\n",
    "pd.concat([df1, df2], ignore_index = True)"
   ]
  },
  {
   "cell_type": "markdown",
   "id": "41a42cb4-64c1-490f-90da-79a0b08ecf51",
   "metadata": {},
   "source": [
    "#### 7.3 데이터 재구성"
   ]
  },
  {
   "cell_type": "markdown",
   "id": "7aea0002-db28-4805-a13d-1f39bd755c22",
   "metadata": {},
   "source": [
    "피봇(pivot)\n",
    "- 행열을 바꿔서 표를 재구성 하는 함수"
   ]
  },
  {
   "cell_type": "code",
   "execution_count": 71,
   "id": "4fb696b2-c4f6-46bd-988f-0a77f802d9fe",
   "metadata": {},
   "outputs": [
    {
     "data": {
      "text/html": [
       "<div>\n",
       "<style scoped>\n",
       "    .dataframe tbody tr th:only-of-type {\n",
       "        vertical-align: middle;\n",
       "    }\n",
       "\n",
       "    .dataframe tbody tr th {\n",
       "        vertical-align: top;\n",
       "    }\n",
       "\n",
       "    .dataframe thead th {\n",
       "        text-align: right;\n",
       "    }\n",
       "</style>\n",
       "<table border=\"1\" class=\"dataframe\">\n",
       "  <thead>\n",
       "    <tr style=\"text-align: right;\">\n",
       "      <th></th>\n",
       "      <th>이름</th>\n",
       "      <th>과목</th>\n",
       "      <th>점수</th>\n",
       "    </tr>\n",
       "  </thead>\n",
       "  <tbody>\n",
       "    <tr>\n",
       "      <th>0</th>\n",
       "      <td>철수</td>\n",
       "      <td>국어</td>\n",
       "      <td>90</td>\n",
       "    </tr>\n",
       "    <tr>\n",
       "      <th>1</th>\n",
       "      <td>영희</td>\n",
       "      <td>국어</td>\n",
       "      <td>85</td>\n",
       "    </tr>\n",
       "    <tr>\n",
       "      <th>2</th>\n",
       "      <td>철수</td>\n",
       "      <td>수학</td>\n",
       "      <td>80</td>\n",
       "    </tr>\n",
       "    <tr>\n",
       "      <th>3</th>\n",
       "      <td>영희</td>\n",
       "      <td>수학</td>\n",
       "      <td>95</td>\n",
       "    </tr>\n",
       "  </tbody>\n",
       "</table>\n",
       "</div>"
      ],
      "text/plain": [
       "   이름  과목  점수\n",
       "0  철수  국어  90\n",
       "1  영희  국어  85\n",
       "2  철수  수학  80\n",
       "3  영희  수학  95"
      ]
     },
     "execution_count": 71,
     "metadata": {},
     "output_type": "execute_result"
    }
   ],
   "source": [
    "# 학생의 시험 점수를 데이터프레임에 저장\n",
    "df = pd.DataFrame( { '이름' : ['철수','영희','철수','영희'],\n",
    "                     '과목' : ['국어','국어','수학','수학'],\n",
    "                     '점수' : [90,85,80,95] } )\n",
    "df"
   ]
  },
  {
   "cell_type": "code",
   "execution_count": 72,
   "id": "c63164ae-c9d3-4a7f-a225-ad68873d0d3a",
   "metadata": {},
   "outputs": [],
   "source": [
    "# 이 표는 데이터를 저장, 수정하기에는 좋지만\n",
    "# 조회하는 건 불편함"
   ]
  },
  {
   "cell_type": "code",
   "execution_count": 75,
   "id": "34dff8bb-5072-43e4-a0e4-030f4080b500",
   "metadata": {},
   "outputs": [
    {
     "name": "stdout",
     "output_type": "stream",
     "text": [
      "Index(['영희', '철수'], dtype='object', name='이름')\n",
      "Index(['국어', '수학'], dtype='object', name='과목')\n"
     ]
    }
   ],
   "source": [
    "# 이 데이터를 성적표 형태로 변경\n",
    "# df.pivot(인덱스, 컬럼, 데이터)\n",
    "# 원본 데이터의 컬럼 중에서 선택\n",
    "result = df.pivot(index = '이름', columns = '과목' , values = '점수')\n",
    "# 새로 만든 데이터 프레임의 행 열 확인\n",
    "print(result.index)\n",
    "print(result.columns)"
   ]
  },
  {
   "cell_type": "code",
   "execution_count": 77,
   "id": "b4ad1704-a1c7-4b88-9d87-5728c5b027fc",
   "metadata": {},
   "outputs": [
    {
     "data": {
      "text/html": [
       "<div>\n",
       "<style scoped>\n",
       "    .dataframe tbody tr th:only-of-type {\n",
       "        vertical-align: middle;\n",
       "    }\n",
       "\n",
       "    .dataframe tbody tr th {\n",
       "        vertical-align: top;\n",
       "    }\n",
       "\n",
       "    .dataframe thead th {\n",
       "        text-align: right;\n",
       "    }\n",
       "</style>\n",
       "<table border=\"1\" class=\"dataframe\">\n",
       "  <thead>\n",
       "    <tr style=\"text-align: right;\">\n",
       "      <th>과목</th>\n",
       "      <th>국어</th>\n",
       "      <th>수학</th>\n",
       "    </tr>\n",
       "    <tr>\n",
       "      <th>이름</th>\n",
       "      <th></th>\n",
       "      <th></th>\n",
       "    </tr>\n",
       "  </thead>\n",
       "  <tbody>\n",
       "    <tr>\n",
       "      <th>영희</th>\n",
       "      <td>85</td>\n",
       "      <td>95</td>\n",
       "    </tr>\n",
       "    <tr>\n",
       "      <th>철수</th>\n",
       "      <td>90</td>\n",
       "      <td>80</td>\n",
       "    </tr>\n",
       "  </tbody>\n",
       "</table>\n",
       "</div>"
      ],
      "text/plain": [
       "과목  국어  수학\n",
       "이름        \n",
       "영희  85  95\n",
       "철수  90  80"
      ]
     },
     "execution_count": 77,
     "metadata": {},
     "output_type": "execute_result"
    }
   ],
   "source": [
    "result"
   ]
  },
  {
   "cell_type": "code",
   "execution_count": null,
   "id": "c9f0cb25-ece8-4d3e-895b-a4f030e041ff",
   "metadata": {},
   "outputs": [],
   "source": []
  },
  {
   "cell_type": "code",
   "execution_count": null,
   "id": "23e38bdd-ee5a-4fbd-b365-50401ddb00f5",
   "metadata": {},
   "outputs": [],
   "source": []
  },
  {
   "cell_type": "code",
   "execution_count": null,
   "id": "7afd6c72-a9fb-4483-b817-251e91ae6b35",
   "metadata": {},
   "outputs": [],
   "source": []
  },
  {
   "cell_type": "code",
   "execution_count": null,
   "id": "a0255833-78bf-483e-adb4-adf967b54acc",
   "metadata": {},
   "outputs": [],
   "source": []
  },
  {
   "cell_type": "code",
   "execution_count": null,
   "id": "98ed25b8-f026-4b8e-ae89-f03ba3e68a12",
   "metadata": {},
   "outputs": [],
   "source": []
  },
  {
   "cell_type": "code",
   "execution_count": null,
   "id": "257158c6-5e19-4eec-93f3-f500d07b7ce6",
   "metadata": {},
   "outputs": [],
   "source": []
  }
 ],
 "metadata": {
  "kernelspec": {
   "display_name": "Python 3 (ipykernel)",
   "language": "python",
   "name": "python3"
  },
  "language_info": {
   "codemirror_mode": {
    "name": "ipython",
    "version": 3
   },
   "file_extension": ".py",
   "mimetype": "text/x-python",
   "name": "python",
   "nbconvert_exporter": "python",
   "pygments_lexer": "ipython3",
   "version": "3.10.18"
  }
 },
 "nbformat": 4,
 "nbformat_minor": 5
}
