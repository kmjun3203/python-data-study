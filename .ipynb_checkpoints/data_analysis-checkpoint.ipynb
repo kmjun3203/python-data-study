{
 "cells": [
  {
   "cell_type": "markdown",
   "id": "6cddd448-974e-49e6-8f88-c6bf409bf30c",
   "metadata": {},
   "source": [
    "### 5. 데이터 불러오기와 간단한 분속까지"
   ]
  },
  {
   "cell_type": "code",
   "execution_count": 1,
   "id": "57c5d45b-4c31-4d1f-b076-0a45432fb6f3",
   "metadata": {},
   "outputs": [],
   "source": [
    "# 필요한 모듈 불러오기\n",
    "import numpy as np\n",
    "import pandas as pd"
   ]
  },
  {
   "cell_type": "markdown",
   "id": "555849f7-7ff5-4258-b8eb-a681096545a0",
   "metadata": {},
   "source": [
    "#### 5.1 파일 다루기  \n",
    "<small>\n",
    "csv, json    \n",
    "</small>"
   ]
  },
  {
   "cell_type": "markdown",
   "id": "e3f446ca-3eba-4711-9f40-18b4d4b4b4e4",
   "metadata": {},
   "source": [
    "csv 파일 불러오기"
   ]
  },
  {
   "cell_type": "code",
   "execution_count": 6,
   "id": "515023e8-08cd-4b8b-b964-a6b0f7936220",
   "metadata": {},
   "outputs": [
    {
     "name": "stdout",
     "output_type": "stream",
     "text": [
      "   student_id  math  eng  kor\n",
      "0         101    80   95   88\n",
      "1         102    92   85   90\n",
      "2         103    75   80   66\n",
      "RangeIndex(start=0, stop=3, step=1)\n"
     ]
    },
    {
     "data": {
      "text/html": [
       "<div>\n",
       "<style scoped>\n",
       "    .dataframe tbody tr th:only-of-type {\n",
       "        vertical-align: middle;\n",
       "    }\n",
       "\n",
       "    .dataframe tbody tr th {\n",
       "        vertical-align: top;\n",
       "    }\n",
       "\n",
       "    .dataframe thead th {\n",
       "        text-align: right;\n",
       "    }\n",
       "</style>\n",
       "<table border=\"1\" class=\"dataframe\">\n",
       "  <thead>\n",
       "    <tr style=\"text-align: right;\">\n",
       "      <th></th>\n",
       "      <th>math</th>\n",
       "      <th>eng</th>\n",
       "      <th>kor</th>\n",
       "    </tr>\n",
       "    <tr>\n",
       "      <th>student_id</th>\n",
       "      <th></th>\n",
       "      <th></th>\n",
       "      <th></th>\n",
       "    </tr>\n",
       "  </thead>\n",
       "  <tbody>\n",
       "    <tr>\n",
       "      <th>101</th>\n",
       "      <td>80</td>\n",
       "      <td>95</td>\n",
       "      <td>88</td>\n",
       "    </tr>\n",
       "    <tr>\n",
       "      <th>102</th>\n",
       "      <td>92</td>\n",
       "      <td>85</td>\n",
       "      <td>90</td>\n",
       "    </tr>\n",
       "    <tr>\n",
       "      <th>103</th>\n",
       "      <td>75</td>\n",
       "      <td>80</td>\n",
       "      <td>66</td>\n",
       "    </tr>\n",
       "  </tbody>\n",
       "</table>\n",
       "</div>"
      ],
      "text/plain": [
       "            math  eng  kor\n",
       "student_id                \n",
       "101           80   95   88\n",
       "102           92   85   90\n",
       "103           75   80   66"
      ]
     },
     "execution_count": 6,
     "metadata": {},
     "output_type": "execute_result"
    }
   ],
   "source": [
    "# 판다스를 사용해서 csv 파일 불러오기\n",
    "# pd.read_csv(파일의 경로)\n",
    "# 상대경로/절대경로\n",
    "# 현재 나의 위치: python-data-study\n",
    "# 찾고자 하는 파일: sample1.csv\n",
    "# read_csv는 csv파일을 읽어서 데이터 프레임으로 반환\n",
    "df = pd.read_csv('sample/sample1.csv') # 상대경로\n",
    "print(df)\n",
    "# 읽어온 데이터 속성 확인\n",
    "# 행열 이름 확인\n",
    "print(df.index)\n",
    "df.columns\n",
    "# 행 인덱스: 자동으로 정수 인덱스가 설정됨\n",
    "# 열 인덱스: 자동으로 첫번째 행이 컬럼으로 설정됨\n",
    "\n",
    "# 행 인덱스 바꾸기\n",
    "# 학번을 인덱스로 설정\n",
    "df.set_index('student_id')"
   ]
  },
  {
   "cell_type": "markdown",
   "id": "fed5f359-013d-49c5-98b3-90395032087a",
   "metadata": {},
   "source": [
    "csv 파일 불러오기"
   ]
  },
  {
   "cell_type": "code",
   "execution_count": 14,
   "id": "165c4b30-8dfa-4a8f-864d-de2652a1d67f",
   "metadata": {},
   "outputs": [
    {
     "name": "stdout",
     "output_type": "stream",
     "text": [
      "   상품명       가격  재고\n",
      "0  노트북  1200000   5\n",
      "1  키보드    29000  20\n",
      "2  마우스    19000  15\n",
      "Index(['노트북', '키보드', '마우스'], dtype='object', name='상품명')\n",
      "Index(['가격', '재고'], dtype='object')\n"
     ]
    }
   ],
   "source": [
    "# sample 폴더 아래 2번째 csv파일 불러오기\n",
    "# 판다스 사용\n",
    "# 파일에 한글이 포함되어 있으면, 한글을 지원하는 인코딩 설정\n",
    "# 한글을 지원하는 인코딩: utf-8, euc-kr\n",
    "df = pd.read_csv('sample/sample2.csv', encoding='euc-kr')\n",
    "print(df)\n",
    "# 나중에 데이터를 쉽게 조회/수정/삭제하기 위해\n",
    "# 상품명을 행 인덱스로 설정\n",
    "# set_index는 결과만 반환하고, 원본데이터에는 영향 없음\n",
    "# 교체\n",
    "df = df.set_index('상품명')\n",
    "\n",
    "print(df.index)\n",
    "print(df.columns)"
   ]
  },
  {
   "cell_type": "code",
   "execution_count": 21,
   "id": "cb64f4eb-d3c1-4888-aa90-e2c5a45ad10a",
   "metadata": {},
   "outputs": [
    {
     "data": {
      "text/html": [
       "<div>\n",
       "<style scoped>\n",
       "    .dataframe tbody tr th:only-of-type {\n",
       "        vertical-align: middle;\n",
       "    }\n",
       "\n",
       "    .dataframe tbody tr th {\n",
       "        vertical-align: top;\n",
       "    }\n",
       "\n",
       "    .dataframe thead th {\n",
       "        text-align: right;\n",
       "    }\n",
       "</style>\n",
       "<table border=\"1\" class=\"dataframe\">\n",
       "  <thead>\n",
       "    <tr style=\"text-align: right;\">\n",
       "      <th></th>\n",
       "      <th>상품명</th>\n",
       "      <th>가격</th>\n",
       "      <th>재고</th>\n",
       "    </tr>\n",
       "    <tr>\n",
       "      <th>상품명</th>\n",
       "      <th></th>\n",
       "      <th></th>\n",
       "      <th></th>\n",
       "    </tr>\n",
       "  </thead>\n",
       "  <tbody>\n",
       "    <tr>\n",
       "      <th>노트북</th>\n",
       "      <td>노트북</td>\n",
       "      <td>1200000</td>\n",
       "      <td>5</td>\n",
       "    </tr>\n",
       "    <tr>\n",
       "      <th>키보드</th>\n",
       "      <td>키보드</td>\n",
       "      <td>29000</td>\n",
       "      <td>20</td>\n",
       "    </tr>\n",
       "    <tr>\n",
       "      <th>마우스</th>\n",
       "      <td>마우스</td>\n",
       "      <td>19000</td>\n",
       "      <td>15</td>\n",
       "    </tr>\n",
       "  </tbody>\n",
       "</table>\n",
       "</div>"
      ],
      "text/plain": [
       "     상품명       가격  재고\n",
       "상품명                  \n",
       "노트북  노트북  1200000   5\n",
       "키보드  키보드    29000  20\n",
       "마우스  마우스    19000  15"
      ]
     },
     "execution_count": 21,
     "metadata": {},
     "output_type": "execute_result"
    }
   ],
   "source": [
    "df = pd.read_csv('sample/sample2.csv', encoding='euc-kr')\n",
    "df\n",
    "# 상품명 컬럼을 유지하면서,\n",
    "# 상품명을 행인덱스로 설정하기\n",
    "df.index = df['상품명']\n",
    "df"
   ]
  },
  {
   "cell_type": "markdown",
   "id": "fae90245-ca1a-4d69-920c-3b8618c6603c",
   "metadata": {},
   "source": [
    "JSON 파일 불러오기1  \n",
    "<small>\n",
    "파이썬의 딕셔너리와 구조가 비슷  \n",
    "json 파일을 파싱한다 => json 데이터를 파이썬에서 사용할 수 있는 형태로 변환한다.  \n",
    "json 작성 방법:\n",
    "key.value  \n",
    "object: { }  \n",
    "list: [ ]  \n",
    "</small>"
   ]
  },
  {
   "cell_type": "code",
   "execution_count": 25,
   "id": "ba08249d-b95c-4fc7-8f14-2b0549b35f2e",
   "metadata": {},
   "outputs": [
    {
     "data": {
      "text/plain": [
       "{'id': 101, 'name': 'alice', 'age': 30}"
      ]
     },
     "execution_count": 25,
     "metadata": {},
     "output_type": "execute_result"
    }
   ],
   "source": [
    "import json\n",
    "# 파이썬 방식으로 파일 열기\n",
    "f = open('sample/sample3.json', 'r')\n",
    "# json 모듈로 파일을 닥셔너리로 변환\n",
    "dic = json.load(f)\n",
    "dic"
   ]
  },
  {
   "cell_type": "markdown",
   "id": "5d8ca128-6e0d-4ded-8a59-dc31dfa96b34",
   "metadata": {},
   "source": [
    "json 파일 불러오기2"
   ]
  },
  {
   "cell_type": "code",
   "execution_count": 28,
   "id": "4c2fdf89-9e72-4c2b-8dbc-535abd3c855e",
   "metadata": {},
   "outputs": [
    {
     "data": {
      "text/plain": [
       "{'name': '홍길동', 'age': 25, 'city': '서울'}"
      ]
     },
     "execution_count": 28,
     "metadata": {},
     "output_type": "execute_result"
    }
   ],
   "source": [
    "# 파이썬 방식으로 파일 불러오기\n",
    "f = open('sample/sample4.json','r', encoding='utf-8')\n",
    "# json 파일을 딕셔너리로 변환\n",
    "dic = json.load(f)\n",
    "dic"
   ]
  },
  {
   "cell_type": "code",
   "execution_count": 30,
   "id": "e09c0916-dc5e-48c5-b011-23fdfbe96f81",
   "metadata": {},
   "outputs": [],
   "source": [
    "# 왜 파일의 내용을 딕셔너리로 변환해야 할까?\n",
    "# f도 read readline 함수를 지원함\n",
    "# read나 readline은 텍스트를 통으로 가져오기 때문에\n",
    "# 내가 원하는 값만 추출하기 어려움"
   ]
  },
  {
   "cell_type": "code",
   "execution_count": 37,
   "id": "128079af-f66e-4b02-8570-0e7da086c9dd",
   "metadata": {},
   "outputs": [
    {
     "name": "stdout",
     "output_type": "stream",
     "text": [
      "name 홍길동\n",
      "age 25\n",
      "city 서울\n"
     ]
    }
   ],
   "source": [
    "# 딕셔너리에서 키와 값 꺼내기\n",
    "dic.items()\n",
    "for key, value in dic.items():\n",
    "    print(key, value)"
   ]
  },
  {
   "cell_type": "markdown",
   "id": "bbc31666-1297-4836-b86d-c7eb6aab6694",
   "metadata": {},
   "source": [
    "JSON 파일 불러오기 3"
   ]
  },
  {
   "cell_type": "code",
   "execution_count": 40,
   "id": "4579466a-9739-484f-b32a-9fb69d76d8bd",
   "metadata": {},
   "outputs": [
    {
     "data": {
      "text/plain": [
       "[{'name': '홍길동', 'age': 25, 'city': '서울'},\n",
       " {'name': '김철수', 'age': 30, 'city': '부산'}]"
      ]
     },
     "execution_count": 40,
     "metadata": {},
     "output_type": "execute_result"
    }
   ],
   "source": [
    "# json 파일 불러오기 (1)\n",
    "f = open('sample/sample5.json', 'r', encoding='utf-8')\n",
    "dic = json.load(f)\n",
    "dic"
   ]
  },
  {
   "cell_type": "code",
   "execution_count": 46,
   "id": "02083145-4448-408e-a38b-396fcb800161",
   "metadata": {},
   "outputs": [
    {
     "name": "stdout",
     "output_type": "stream",
     "text": [
      "RangeIndex(start=0, stop=2, step=1)\n",
      "Index(['name', 'age', 'city'], dtype='object')\n"
     ]
    },
    {
     "data": {
      "text/plain": [
       "name    김철수\n",
       "age      30\n",
       "city     부산\n",
       "Name: 1, dtype: object"
      ]
     },
     "execution_count": 46,
     "metadata": {},
     "output_type": "execute_result"
    }
   ],
   "source": [
    "# json 파일 불러오기 (2)\n",
    "# 판다스를 사용해서 파일을 바로 dataframe으로 변환\n",
    "# 단건 데이터는 데이터프레임으로 변환할 수 없다.\n",
    "# 리스트 데이터만 데이터프레임으로 변환할 수 있다.\n",
    "df = pd.read_json('sample/sample5.json')\n",
    "print(df.index) # 정수 인덱스\n",
    "print(df.columns) # 키 -> 컬럼\n",
    "# 데이터 꺼내기\n",
    "# 홍길동의 나이\n",
    "df.loc[0, 'age']\n",
    "# 김철수의 모든 데이터 꺼내기\n",
    "df.loc[1]\n",
    "df.loc[1, :]"
   ]
  },
  {
   "cell_type": "markdown",
   "id": "48bcaec2-e9f9-46e3-a94c-9a213e3046ec",
   "metadata": {},
   "source": [
    "### 5.3 데이터베이스 연결하기  \n",
    "<small>\n",
    "설치형 데이터베이스: mysql, oracle, ..<br>   \n",
    "파일형 데이터베이스: sqlite, ..<br>    \n",
    "파일형 데이터베이스는 파일만 있으면 어디서든 열 수 있다.<br>    \n",
    "</small>"
   ]
  },
  {
   "cell_type": "markdown",
   "id": "bb868c63-a6ea-4e6f-83ed-daf4cb542147",
   "metadata": {},
   "source": [
    "데이터베이스 연결 및 테이블 생성"
   ]
  },
  {
   "cell_type": "code",
   "execution_count": 2,
   "id": "379313aa-cad3-4135-a4ea-709649c3af30",
   "metadata": {},
   "outputs": [],
   "source": [
    "# 모듈 불러오기\n",
    "import sqlite3"
   ]
  },
  {
   "cell_type": "code",
   "execution_count": 3,
   "id": "78cf740b-54d2-4dec-8bad-3c2b6e4207c1",
   "metadata": {},
   "outputs": [],
   "source": [
    "# 데이터베이스 연결 또는 생성\n",
    "# connect(데이터베이스 이름)\n",
    "con = sqlite3.connect('mydata.sqlite')"
   ]
  },
  {
   "cell_type": "code",
   "execution_count": 4,
   "id": "8067c999-ae9f-4255-a69b-39f5e42c4def",
   "metadata": {},
   "outputs": [],
   "source": [
    "\n",
    "# 학생의 정보를 저장할 테이블 생성\n",
    "# 데이터베이스 명령: sql(쿼리)\n",
    "# create\n",
    "# insert select update delete\n",
    "# commit rollback\n",
    "con.execute('CREATE TABLE student(id INTEGER, name TEXT, age INTEGER)')\n",
    "# 테이블 데이터 추가\n",
    "con.execute(\"INSERT INTO student VALUES (1, '둘리', 25)\")\n",
    "con.execute(\"INSERT INTO student VALUES (2, '도우너', 30)\")\n",
    "con.commit()\n"
   ]
  },
  {
   "cell_type": "code",
   "execution_count": 5,
   "id": "10bab84f-c4ba-4208-b1ca-a029d4eed3c1",
   "metadata": {},
   "outputs": [
    {
     "name": "stdout",
     "output_type": "stream",
     "text": [
      "(1, '둘리', 25)\n",
      "(2, '도우너', 30)\n"
     ]
    }
   ],
   "source": [
    "cur = con.execute('SELECT * FROM student')\n",
    "\n",
    "rows = cur.fetchall()\n",
    "for tup in rows:\n",
    "    print(tup)"
   ]
  },
  {
   "cell_type": "code",
   "execution_count": 17,
   "id": "59134792-6b28-4877-9758-7543b0b088a4",
   "metadata": {},
   "outputs": [],
   "source": [
    "# 1번 학생만 조회\n",
    "cur = con.execute('SELECT * FROM student WHERE id = 1')\n",
    "row = cur.fetchone()\n",
    "row"
   ]
  },
  {
   "cell_type": "code",
   "execution_count": null,
   "id": "8d7549c3-94f2-435d-8c5e-5fa7d1c6ae71",
   "metadata": {},
   "outputs": [],
   "source": []
  }
 ],
 "metadata": {
  "kernelspec": {
   "display_name": "Python 3 (ipykernel)",
   "language": "python",
   "name": "python3"
  },
  "language_info": {
   "codemirror_mode": {
    "name": "ipython",
    "version": 3
   },
   "file_extension": ".py",
   "mimetype": "text/x-python",
   "name": "python",
   "nbconvert_exporter": "python",
   "pygments_lexer": "ipython3",
   "version": "3.10.18"
  }
 },
 "nbformat": 4,
 "nbformat_minor": 5
}
